{
 "cells": [
  {
   "cell_type": "markdown",
   "metadata": {},
   "source": [
    "# Introducción a Python\n",
    "_Antonio Sarasa, Enrique Martín_"
   ]
  },
  {
   "cell_type": "markdown",
   "metadata": {},
   "source": [
    "## Tabla de contenidos\n",
    "* [1. Elementos básicos del lenguaje](#sec1)\n",
    "    * [1.1 Variables](#sec1.1)\n",
    "    * [1.2 Palabras reservadas](#sec1.2)\n",
    "    * [1.3 Operadores](#sec1.3)\n",
    "    * [1.4 Expresiones](#sec1.4)\n",
    "    * [1.5 Comentarios](#sec1.5)\n",
    "    * [1.6 Expresiones booleanas](#sec1.6)\n",
    "    * [1.7 Operaciones lógicas](#sec1.7)\n",
    "* [2. Estructuras de control](#sec2)\n",
    "    * [2.1 Condicionales](#sec2.1)\n",
    "    * [2.2 Bucles](#sec2.2)\n",
    "* [3. Estructuras de datos: tuplas, listas y diccionarios](#sec3)\n",
    "    * [3.1 Tuplas](#sec3.1)\n",
    "    * [3.2 Listas](#sec3.2)\n",
    "    * [3.3 Diccionarios](#sec3.3)\n",
    "    * [3.4 Conjuntos](#sec3.4)\n",
    "* [4. Funciones](#sec4)\n",
    "* [5. Importación de módulos](#sec5)\n",
    "* [6. Ficheros](#sec6)\n",
    "* [7. Clases](#sec7)\n",
    "* [8. Excepciones](#sec8)\n",
    "* [9. Pylint](#sec9)\n",
    "* [Referencias](#refs)"
   ]
  },
  {
   "cell_type": "markdown",
   "metadata": {},
   "source": [
    "## 1. Elementos básicos del lenguaje <a class=\"anchor\" id=\"sec1\"></a>"
   ]
  },
  {
   "cell_type": "markdown",
   "metadata": {},
   "source": [
    "Jupyter notebook ofrece una herramienta de ejecución interactiva con la cual es posible dar órdenes directamente al intérprete y obtener una respuesta inmediata para cada una de ellas. En los siguiente ejemplos, se usa a modo de calculadora:"
   ]
  },
  {
   "cell_type": "code",
   "execution_count": 1,
   "metadata": {
    "collapsed": false,
    "jupyter": {
     "outputs_hidden": false
    }
   },
   "outputs": [
    {
     "data": {
      "text/plain": [
       "1"
      ]
     },
     "execution_count": 1,
     "metadata": {},
     "output_type": "execute_result"
    }
   ],
   "source": [
    "2 + 4 - 5"
   ]
  },
  {
   "cell_type": "code",
   "execution_count": 2,
   "metadata": {
    "collapsed": false,
    "jupyter": {
     "outputs_hidden": false
    }
   },
   "outputs": [
    {
     "data": {
      "text/plain": [
       "10.3"
      ]
     },
     "execution_count": 2,
     "metadata": {},
     "output_type": "execute_result"
    }
   ],
   "source": [
    "2.3 + 8    # la coma decimal se representa como un punto en Python"
   ]
  },
  {
   "cell_type": "markdown",
   "metadata": {},
   "source": [
    "### 1.1. Variables <a class=\"anchor\" id=\"sec1.1\"></a>\n",
    "Una __variable__ es un nombre que referencia un valor. Por ejemplo:"
   ]
  },
  {
   "cell_type": "code",
   "execution_count": 3,
   "metadata": {
    "collapsed": false,
    "jupyter": {
     "outputs_hidden": false
    }
   },
   "outputs": [],
   "source": [
    "titulo = \" Cálculo del área de un círculo\"\n",
    "pi = 3.14159\n",
    "radio = 5\n",
    "area = pi*(radio**2)"
   ]
  },
  {
   "cell_type": "markdown",
   "metadata": {},
   "source": [
    "Una __sentencia de asignación__ crea variables nuevas y las asocia valores. Por ejemplo:"
   ]
  },
  {
   "cell_type": "code",
   "execution_count": 4,
   "metadata": {
    "collapsed": false,
    "jupyter": {
     "outputs_hidden": false
    }
   },
   "outputs": [],
   "source": [
    "mensaje = \"Esto es un mensaje de prueba\"\n",
    "n = 17\n",
    "pi = 3.1415926535897931"
   ]
  },
  {
   "cell_type": "markdown",
   "metadata": {},
   "source": [
    "Para mostrar el valor de una variable, se puede usar la sentencia ```print```. Por ejemplo:"
   ]
  },
  {
   "cell_type": "code",
   "execution_count": 5,
   "metadata": {
    "collapsed": false,
    "jupyter": {
     "outputs_hidden": false
    }
   },
   "outputs": [
    {
     "name": "stdout",
     "output_type": "stream",
     "text": [
      "17\n",
      "3.141592653589793\n"
     ]
    }
   ],
   "source": [
    "print(n) #17\n",
    "print(pi) # 3.1415926535897931"
   ]
  },
  {
   "cell_type": "markdown",
   "metadata": {},
   "source": [
    "Las variables son de un tipo, que coincide con el tipo del valor que referencian. El método __type ()__ indica el tipo de una variable. Por ejemplo: "
   ]
  },
  {
   "cell_type": "code",
   "execution_count": 6,
   "metadata": {
    "collapsed": false,
    "jupyter": {
     "outputs_hidden": false
    },
    "scrolled": true
   },
   "outputs": [
    {
     "data": {
      "text/plain": [
       "str"
      ]
     },
     "execution_count": 6,
     "metadata": {},
     "output_type": "execute_result"
    }
   ],
   "source": [
    "type(mensaje) #str"
   ]
  },
  {
   "cell_type": "code",
   "execution_count": 7,
   "metadata": {
    "collapsed": false,
    "jupyter": {
     "outputs_hidden": false
    }
   },
   "outputs": [
    {
     "data": {
      "text/plain": [
       "int"
      ]
     },
     "execution_count": 7,
     "metadata": {},
     "output_type": "execute_result"
    }
   ],
   "source": [
    "type(n) #int"
   ]
  },
  {
   "cell_type": "code",
   "execution_count": 8,
   "metadata": {
    "collapsed": false,
    "jupyter": {
     "outputs_hidden": false
    }
   },
   "outputs": [
    {
     "data": {
      "text/plain": [
       "float"
      ]
     },
     "execution_count": 8,
     "metadata": {},
     "output_type": "execute_result"
    }
   ],
   "source": [
    "type(pi) #float"
   ]
  },
  {
   "cell_type": "markdown",
   "metadata": {},
   "source": [
    "Algunos de los tipos más usados son:\n",
    "\n",
    "*\tint: enteros\n",
    "*\tfloat: números reales\n",
    "*\tbool: valores booleanos: cierto y falso\n",
    "*\tstr: cadenas\n",
    "*\tNone: corresponde al valor nulo\n"
   ]
  },
  {
   "cell_type": "markdown",
   "metadata": {},
   "source": [
    "Existen unas reglas de construcción de los nombres de las variables:\n",
    "\n",
    "*\tPueden ser arbitrariamente largos.\n",
    "*\tPueden contener tanto letras como números.\n",
    "*\tDeben empezar con letras.\n",
    "*\tPueden aparecer subrayados para unir múltiples palabras.\n",
    "*\tNo pueden ser palabras reservadas de Python."
   ]
  },
  {
   "cell_type": "markdown",
   "metadata": {},
   "source": [
    "Uno de los usos habituales de las sentencia de __asignación__ consiste en realizar una actualización sobre una variable en la cual el valor nuevo de esa variable depende del antiguo: x = x+1. Esto quiere decir `toma el valor actual de x, añádele 1, y luego actualiza x con el nuevo valor`. En el siguiente ejemplo se intercambian los valores dos variables x e y."
   ]
  },
  {
   "cell_type": "code",
   "execution_count": 9,
   "metadata": {
    "collapsed": false,
    "jupyter": {
     "outputs_hidden": false
    }
   },
   "outputs": [
    {
     "name": "stdout",
     "output_type": "stream",
     "text": [
      "x = 3\n",
      "y = 2\n"
     ]
    }
   ],
   "source": [
    "x, y = 2, 3\n",
    "x, y = y, x\n",
    "print(\"x =\", x) # x=3\n",
    "print(\"y =\", y) # y=2"
   ]
  },
  {
   "cell_type": "markdown",
   "metadata": {},
   "source": [
    "El ejemplo anterior se podría haber realizado sin utilizar la doble asignación:"
   ]
  },
  {
   "cell_type": "code",
   "execution_count": 10,
   "metadata": {
    "collapsed": false,
    "jupyter": {
     "outputs_hidden": false
    }
   },
   "outputs": [
    {
     "name": "stdout",
     "output_type": "stream",
     "text": [
      "x = 3\n",
      "y = 2\n"
     ]
    }
   ],
   "source": [
    "x = 2\n",
    "y = 3\n",
    "z = x\n",
    "x = y\n",
    "y = z\n",
    "print(\"x =\", x) # x=3\n",
    "print(\"y =\", y) #y=2"
   ]
  },
  {
   "cell_type": "markdown",
   "metadata": {},
   "source": [
    "Observar:\n",
    "* Si se intenta actualizar una variable que no existe, se obtiene un error, ya que Python evalúa el lado derecho antes de asignar el valor a x.\n",
    "* Antes de poder actualizar una variable, se debe inicializar mediante una asignación. A continuación se puede actualizar la variable aumentándola (incrementar) o disminuyendo (decrementar). Por ejemplo:"
   ]
  },
  {
   "cell_type": "code",
   "execution_count": 11,
   "metadata": {},
   "outputs": [],
   "source": [
    "x = 0\n",
    "x = x+1"
   ]
  },
  {
   "cell_type": "markdown",
   "metadata": {},
   "source": [
    "### 1.2. Palabras reservadas <a class=\"anchor\" id=\"sec1.2\"></a>\n",
    "Python reserva 31 palabras claves para su propio uso:"
   ]
  },
  {
   "cell_type": "code",
   "execution_count": 12,
   "metadata": {
    "collapsed": false,
    "jupyter": {
     "outputs_hidden": false
    }
   },
   "outputs": [
    {
     "name": "stdout",
     "output_type": "stream",
     "text": [
      "['False', 'None', 'True', 'and', 'as', 'assert', 'async', 'await', 'break', 'class', 'continue', 'def', 'del', 'elif', 'else', 'except', 'finally', 'for', 'from', 'global', 'if', 'import', 'in', 'is', 'lambda', 'nonlocal', 'not', 'or', 'pass', 'raise', 'return', 'try', 'while', 'with', 'yield']\n"
     ]
    }
   ],
   "source": [
    "import keyword\n",
    "print(keyword.kwlist)"
   ]
  },
  {
   "cell_type": "markdown",
   "metadata": {},
   "source": [
    "### 1.3. Operadores <a class=\"anchor\" id=\"sec1.3\"></a>\n",
    "Los operadores son símbolos especiales que representan cálculos, como la suma o la multiplicación. Los valores a los cuales se aplican esos operadores reciben el nombre de operandos. Los principales operadores sobre los tipos int y float son:\n",
    "\n",
    "*\ti+j suma\n",
    "*\ti-j resta\n",
    "*\ti*j multiplicación\n",
    "*\ti/j división de dos números. El resultado es un real.\n",
    "*\ti//j cociente de la división entera\n",
    "*\ti%j resto de la división entera\n",
    "*\ti\\*\\*j que representa i elevado a la potencia j\n",
    "*\ti==j que representa i igual que j\n",
    "*\ti!=j que representa i distinto que j\n",
    "*\ti>j que representa i mayor que j, y de forma similar: >=, <, <="
   ]
  },
  {
   "cell_type": "code",
   "execution_count": 13,
   "metadata": {},
   "outputs": [
    {
     "data": {
      "text/plain": [
       "0.9833333333333333"
      ]
     },
     "execution_count": 13,
     "metadata": {},
     "output_type": "execute_result"
    }
   ],
   "source": [
    "segundo = 59\n",
    "segundo / 60"
   ]
  },
  {
   "cell_type": "code",
   "execution_count": 14,
   "metadata": {
    "collapsed": false,
    "jupyter": {
     "outputs_hidden": false
    }
   },
   "outputs": [
    {
     "data": {
      "text/plain": [
       "0.9833333333333333"
      ]
     },
     "execution_count": 14,
     "metadata": {},
     "output_type": "execute_result"
    }
   ],
   "source": [
    "segundo/60.0"
   ]
  },
  {
   "cell_type": "markdown",
   "metadata": {},
   "source": [
    "Se pueden usar los operadores con las cadenas. Por ejemplo"
   ]
  },
  {
   "cell_type": "code",
   "execution_count": 15,
   "metadata": {
    "collapsed": false,
    "jupyter": {
     "outputs_hidden": false
    }
   },
   "outputs": [
    {
     "data": {
      "text/plain": [
       "'aaa'"
      ]
     },
     "execution_count": 15,
     "metadata": {},
     "output_type": "execute_result"
    }
   ],
   "source": [
    "3 * \"a\"  # ‘aaa’"
   ]
  },
  {
   "cell_type": "code",
   "execution_count": 16,
   "metadata": {
    "collapsed": false,
    "jupyter": {
     "outputs_hidden": false
    }
   },
   "outputs": [
    {
     "data": {
      "text/plain": [
       "'ba'"
      ]
     },
     "execution_count": 16,
     "metadata": {},
     "output_type": "execute_result"
    }
   ],
   "source": [
    "\"b\" + \"a\"  # ‘ba’"
   ]
  },
  {
   "cell_type": "markdown",
   "metadata": {},
   "source": [
    "Pero existen algunas particularidades cuando se usan los operadores sobre las cadenas. Por ejemplo:"
   ]
  },
  {
   "cell_type": "code",
   "execution_count": 17,
   "metadata": {
    "collapsed": false,
    "jupyter": {
     "outputs_hidden": false
    }
   },
   "outputs": [],
   "source": [
    "# \"c\" * \"c\"  #TypeError"
   ]
  },
  {
   "cell_type": "code",
   "execution_count": 18,
   "metadata": {
    "collapsed": false,
    "jupyter": {
     "outputs_hidden": false
    }
   },
   "outputs": [
    {
     "data": {
      "text/plain": [
       "10"
      ]
     },
     "execution_count": 18,
     "metadata": {},
     "output_type": "execute_result"
    }
   ],
   "source": [
    "len(\"Psicología\")  # 10"
   ]
  },
  {
   "cell_type": "code",
   "execution_count": 19,
   "metadata": {
    "collapsed": false,
    "jupyter": {
     "outputs_hidden": false
    }
   },
   "outputs": [
    {
     "data": {
      "text/plain": [
       "'l'"
      ]
     },
     "execution_count": 19,
     "metadata": {},
     "output_type": "execute_result"
    }
   ],
   "source": [
    "\"Psicología\"[5]  # ‘l’"
   ]
  },
  {
   "cell_type": "code",
   "execution_count": 20,
   "metadata": {
    "collapsed": false,
    "jupyter": {
     "outputs_hidden": false
    }
   },
   "outputs": [],
   "source": [
    "# \"Psicología\"[12]  # IndexError"
   ]
  },
  {
   "cell_type": "code",
   "execution_count": 21,
   "metadata": {
    "collapsed": false,
    "jupyter": {
     "outputs_hidden": false
    }
   },
   "outputs": [
    {
     "data": {
      "text/plain": [
       "'Psico'"
      ]
     },
     "execution_count": 21,
     "metadata": {},
     "output_type": "execute_result"
    }
   ],
   "source": [
    "\"Psicología\"[0:5]  # ’Psico’"
   ]
  },
  {
   "cell_type": "code",
   "execution_count": 22,
   "metadata": {},
   "outputs": [
    {
     "data": {
      "text/plain": [
       "'Psico'"
      ]
     },
     "execution_count": 22,
     "metadata": {},
     "output_type": "execute_result"
    }
   ],
   "source": [
    "\"Psicología\"[:5]  # ’Psico’"
   ]
  },
  {
   "cell_type": "code",
   "execution_count": 23,
   "metadata": {},
   "outputs": [
    {
     "data": {
      "text/plain": [
       "'colo'"
      ]
     },
     "execution_count": 23,
     "metadata": {},
     "output_type": "execute_result"
    }
   ],
   "source": [
    "\"Psicología\"[3:7]  # ’colo’"
   ]
  },
  {
   "cell_type": "code",
   "execution_count": 24,
   "metadata": {
    "collapsed": false,
    "jupyter": {
     "outputs_hidden": false
    }
   },
   "outputs": [
    {
     "data": {
      "text/plain": [
       "'logía'"
      ]
     },
     "execution_count": 24,
     "metadata": {},
     "output_type": "execute_result"
    }
   ],
   "source": [
    "\"Psicología\"[5:]  # ‘logía’"
   ]
  },
  {
   "cell_type": "code",
   "execution_count": 25,
   "metadata": {},
   "outputs": [
    {
     "data": {
      "text/plain": [
       "'a'"
      ]
     },
     "execution_count": 25,
     "metadata": {},
     "output_type": "execute_result"
    }
   ],
   "source": [
    "\"Psicología\"[-1]  # ‘a’"
   ]
  },
  {
   "cell_type": "code",
   "execution_count": 26,
   "metadata": {},
   "outputs": [
    {
     "data": {
      "text/plain": [
       "'gía'"
      ]
     },
     "execution_count": 26,
     "metadata": {},
     "output_type": "execute_result"
    }
   ],
   "source": [
    "\"Psicología\"[-3:]  # ‘gía’"
   ]
  },
  {
   "cell_type": "markdown",
   "metadata": {},
   "source": [
    "### 1.4. Expresiones <a class=\"anchor\" id=\"sec1.4\"></a>\n",
    "* Una expresión es una combinación de valores, variables y operadores. \n",
    "\n",
    "* Un valor por sí mismo se considera una expresión, y también lo es una variable. \n",
    "\n",
    "* Las expresiones tienen un tipo. Así por ejemplo 6 + 7 es una expresión que representa un entero. Cuando en una expresión aparece más de un operador, el orden de evaluación depende de las reglas de precedencia. Para los operadores matemáticos, Python sigue las convenciones matemáticas:\n",
    "  *\tEl orden de los operadores es: paréntesis, exponenciales, multiplicación/división, suma/resta. \n",
    "  *\tCuando existe la misma precedencia, se evalúa de izquierda a derecha.\n",
    "  \n",
    "Por ejemplo:\n"
   ]
  },
  {
   "cell_type": "code",
   "execution_count": 27,
   "metadata": {
    "collapsed": false,
    "jupyter": {
     "outputs_hidden": false
    }
   },
   "outputs": [
    {
     "data": {
      "text/plain": [
       "5"
      ]
     },
     "execution_count": 27,
     "metadata": {},
     "output_type": "execute_result"
    }
   ],
   "source": [
    "4**1 + 1  # 5"
   ]
  },
  {
   "cell_type": "code",
   "execution_count": 28,
   "metadata": {
    "collapsed": false,
    "jupyter": {
     "outputs_hidden": false
    }
   },
   "outputs": [
    {
     "data": {
      "text/plain": [
       "6"
      ]
     },
     "execution_count": 28,
     "metadata": {},
     "output_type": "execute_result"
    }
   ],
   "source": [
    "6*1**2  # 6"
   ]
  },
  {
   "cell_type": "code",
   "execution_count": 29,
   "metadata": {
    "collapsed": false,
    "jupyter": {
     "outputs_hidden": false
    }
   },
   "outputs": [
    {
     "data": {
      "text/plain": [
       "-3"
      ]
     },
     "execution_count": 29,
     "metadata": {},
     "output_type": "execute_result"
    }
   ],
   "source": [
    "(-1)**3*3  # -3"
   ]
  },
  {
   "cell_type": "code",
   "execution_count": 30,
   "metadata": {
    "collapsed": false,
    "jupyter": {
     "outputs_hidden": false
    }
   },
   "outputs": [
    {
     "data": {
      "text/plain": [
       "9.0"
      ]
     },
     "execution_count": 30,
     "metadata": {},
     "output_type": "execute_result"
    }
   ],
   "source": [
    "6*3/2  # 9.0"
   ]
  },
  {
   "cell_type": "code",
   "execution_count": 31,
   "metadata": {
    "collapsed": false,
    "jupyter": {
     "outputs_hidden": false
    }
   },
   "outputs": [
    {
     "data": {
      "text/plain": [
       "9.0"
      ]
     },
     "execution_count": 31,
     "metadata": {},
     "output_type": "execute_result"
    }
   ],
   "source": [
    "3/2*6  # 9.0"
   ]
  },
  {
   "cell_type": "markdown",
   "metadata": {},
   "source": [
    "### 1.5.Comentarios <a class=\"anchor\" id=\"sec1.5\"></a>\n",
    "En Python comienzan con el símbolo __#__, de forma que todo lo que va desde __#__ hasta el final de la línea es ignorado y no afecta para al programa. Por ejemplo:"
   ]
  },
  {
   "cell_type": "code",
   "execution_count": 32,
   "metadata": {
    "collapsed": false,
    "jupyter": {
     "outputs_hidden": false
    }
   },
   "outputs": [
    {
     "data": {
      "text/plain": [
       "83.33333333333333"
      ]
     },
     "execution_count": 32,
     "metadata": {},
     "output_type": "execute_result"
    }
   ],
   "source": [
    "# Calcula el porcentaje de hora transcurrido\n",
    "minuto = 50\n",
    "porcentaje = (minuto*100) / 60\n",
    "porcentaje"
   ]
  },
  {
   "cell_type": "markdown",
   "metadata": {},
   "source": [
    "En el ejemplo anterior el comentario aparece como una línea completa, pero también puede ponerse comentarios al final de una línea. Por ejemplo:"
   ]
  },
  {
   "cell_type": "code",
   "execution_count": 33,
   "metadata": {
    "collapsed": false,
    "jupyter": {
     "outputs_hidden": false
    }
   },
   "outputs": [
    {
     "data": {
      "text/plain": [
       "83.33333333333333"
      ]
     },
     "execution_count": 33,
     "metadata": {},
     "output_type": "execute_result"
    }
   ],
   "source": [
    "porcentaje = (minuto*100)/60  # Calcula el porcentaje de hora transcurrido\n",
    "porcentaje"
   ]
  },
  {
   "cell_type": "markdown",
   "metadata": {},
   "source": [
    "### 1.6. Expresiones booleanas <a class=\"anchor\" id=\"sec1.6\"></a>\n",
    "Una expresión booleana es aquella que puede ser verdadera (__True__) o falsa (__False__). True y False son valores especiales que pertenecen al tipo bool (booleano). Por ejemplo:"
   ]
  },
  {
   "cell_type": "code",
   "execution_count": 34,
   "metadata": {
    "collapsed": false,
    "jupyter": {
     "outputs_hidden": false
    }
   },
   "outputs": [
    {
     "data": {
      "text/plain": [
       "bool"
      ]
     },
     "execution_count": 34,
     "metadata": {},
     "output_type": "execute_result"
    }
   ],
   "source": [
    "type(True)  # bool"
   ]
  },
  {
   "cell_type": "code",
   "execution_count": 35,
   "metadata": {
    "collapsed": false,
    "jupyter": {
     "outputs_hidden": false
    }
   },
   "outputs": [
    {
     "data": {
      "text/plain": [
       "bool"
      ]
     },
     "execution_count": 35,
     "metadata": {},
     "output_type": "execute_result"
    }
   ],
   "source": [
    "type(False)  # bool"
   ]
  },
  {
   "cell_type": "markdown",
   "metadata": {},
   "source": [
    "Los ejemplos siguientes usan el operador ==, que compara dos operandos y devuelve True si son iguales y False en caso contrario."
   ]
  },
  {
   "cell_type": "code",
   "execution_count": 36,
   "metadata": {
    "collapsed": false,
    "jupyter": {
     "outputs_hidden": false
    }
   },
   "outputs": [
    {
     "data": {
      "text/plain": [
       "True"
      ]
     },
     "execution_count": 36,
     "metadata": {},
     "output_type": "execute_result"
    }
   ],
   "source": [
    "5==5  # True"
   ]
  },
  {
   "cell_type": "code",
   "execution_count": 37,
   "metadata": {
    "collapsed": false,
    "jupyter": {
     "outputs_hidden": false
    }
   },
   "outputs": [
    {
     "data": {
      "text/plain": [
       "False"
      ]
     },
     "execution_count": 37,
     "metadata": {},
     "output_type": "execute_result"
    }
   ],
   "source": [
    "5==6  # False"
   ]
  },
  {
   "cell_type": "markdown",
   "metadata": {},
   "source": [
    "Los principales operadores de comparación son:\n",
    "* x == y      # x es igual que y\n",
    "* x != y       # x es distinto de y\n",
    "* x > y        # x es mayor que y\n",
    "* x < y        # x es menor que y\n",
    "* x >= y      # x es mayor o igual que y\n",
    "* x <= y      # x es menor o igual que y\n",
    "* x is y         # x es lo mismo que y\n",
    "* x is not y   # x no es lo mismo que y"
   ]
  },
  {
   "cell_type": "markdown",
   "metadata": {},
   "source": [
    "### 1.7. Operaciones lógicas <a class=\"anchor\" id=\"sec1.7\"></a>\n",
    "Existen tres operadores lógicos que se usan en las expresiones condicionales:\n",
    "* __not__ representa la negación.\n",
    "* __and__ cierto si las dos expresiones que relaciona son ciertas, y falso en caso contrario.\n",
    "* __or__ falso si las dos expresiones que relaciona son falsas, y cierto en caso contrario.\n",
    "\n",
    "Por ejemplo:\n",
    "* x >0 and x <10 es verdadero sólo cuando x es mayor que 0 y menor que 10.\n",
    "* n%2 == 0 or n%3 == 0 es verdadero si el número es divisible por 2 o por 3.\n",
    "* not (x>y) es verdadero si x es menor o igual que y.\n",
    "\n",
    "Observar que cualquier número distinto de cero se interpreta como “verdadero”. Por ejemplo:\n"
   ]
  },
  {
   "cell_type": "code",
   "execution_count": 38,
   "metadata": {
    "collapsed": false,
    "jupyter": {
     "outputs_hidden": false
    }
   },
   "outputs": [
    {
     "data": {
      "text/plain": [
       "True"
      ]
     },
     "execution_count": 38,
     "metadata": {},
     "output_type": "execute_result"
    }
   ],
   "source": [
    "23 and True  # True"
   ]
  },
  {
   "cell_type": "markdown",
   "metadata": {},
   "source": [
    "Cuando Python detecta que no se gana nada evaluando el resto de una expresión lógica, detiene su evaluación y no realiza el cálculo del resto de la expresión. En este sentido cuando la evaluación de una expresión lógica se detiene debido a que ya se conoce el valor final, eso es conocido como cortocircuitar la evaluación."
   ]
  },
  {
   "cell_type": "markdown",
   "metadata": {},
   "source": [
    "## 2. Estructuras de control <a class=\"anchor\" id=\"sec2\"></a>"
   ]
  },
  {
   "cell_type": "markdown",
   "metadata": {},
   "source": [
    "### 2.1. Condicionales <a class=\"anchor\" id=\"sec2.1\"></a>\n",
    "Las expresiones condicionales facilitan la codificación de estructuras que bifurcan la ejecución del código en varias ramas o caminos de ejecución. Existen varias formas.\n",
    "La primera forma es la siguiente:\n",
    "\n",
    "    if <expresión booleana>:\n",
    "        <código> \n",
    "\n",
    "Por ejemplo:"
   ]
  },
  {
   "cell_type": "code",
   "execution_count": 39,
   "metadata": {
    "collapsed": false,
    "jupyter": {
     "outputs_hidden": false
    }
   },
   "outputs": [
    {
     "name": "stdout",
     "output_type": "stream",
     "text": [
      "x es positivo\n"
     ]
    }
   ],
   "source": [
    "x = 5\n",
    "if x > 0:\n",
    "     print(\"x es positivo\")"
   ]
  },
  {
   "cell_type": "markdown",
   "metadata": {},
   "source": [
    "Observar:\n",
    "* La expresión booleana después de la sentencia __if__ recibe el nombre de condición. La sentencia if se finaliza con un carácter de dos puntos __(:)__ y la(s) línea(s) que van detrás de la sentencia if van indentadas. Este código se denomina __bloque__. \n",
    "* Si la condición lógica es verdadera, la sentencia indentada será ejecutada. Si la condición es falsa, la sentencia indentada será omitida.\n",
    "* No hay límite en el número de sentencias que pueden aparecer en el cuerpo, pero debe haber al menos una. A veces puede resultar útil tener un cuerpo sin sentencias, usándose en este caso la sentencia __pass__, que no hace nada.\n",
    "\n",
    "La segunda forma de la sentencia __if__ es la ejecución alternativa, en la cual existen dos posibilidades y la condición determina cuál de ellas sería ejecutada:\n",
    "\n",
    "    if <expresión booleana>:\n",
    "        <código1> \n",
    "    else:\n",
    "        <código2>\n",
    "\n",
    "Por ejemplo:"
   ]
  },
  {
   "cell_type": "code",
   "execution_count": 40,
   "metadata": {
    "collapsed": false,
    "jupyter": {
     "outputs_hidden": false
    }
   },
   "outputs": [
    {
     "name": "stdout",
     "output_type": "stream",
     "text": [
      "x es negativo\n"
     ]
    }
   ],
   "source": [
    "x = -5\n",
    "if x > 0:\n",
    "  print(\"x es positivo\")\n",
    "else:\n",
    "  print(\"x es negativo\")"
   ]
  },
  {
   "cell_type": "markdown",
   "metadata": {},
   "source": [
    "Dado que la condición debe ser obligatoriamente verdadera o falsa, solamente una de las alternativas será ejecutada. Las alternativas reciben el nombre de ramas, dado que se trata de ramificaciones en el flujo de la ejecución.\n",
    "\n",
    "La tercera forma de la sentencia __if__ es el condicional encadenado que permite que haya más de dos posibilidades o ramas:\n",
    "\n",
    "    if <expresión booleana>:\n",
    "        <código 1>\n",
    "    elif:\n",
    "        <código 2>\n",
    "    <else:>\n",
    "        <código por defecto>\n",
    "\n",
    "Por ejemplo:"
   ]
  },
  {
   "cell_type": "code",
   "execution_count": 41,
   "metadata": {
    "collapsed": false,
    "jupyter": {
     "outputs_hidden": false
    }
   },
   "outputs": [
    {
     "name": "stdout",
     "output_type": "stream",
     "text": [
      "x es el más pequeño\n"
     ]
    }
   ],
   "source": [
    "x = 1\n",
    "y = 2\n",
    "z = 3\n",
    "\n",
    "if x < y and x < z:\n",
    "   print(\"x es el más pequeño\")\n",
    "elif y < z:\n",
    "   print(\"y es el más pequeño\")\n",
    "else:\n",
    "   print(\"z es el más pequeño\")"
   ]
  },
  {
   "cell_type": "markdown",
   "metadata": {},
   "source": [
    "Observar:\n",
    "* No hay un límite para el número de sentencias elif. Si hay una clausula else, debe ir al final, pero tampoco es obligatorio que ésta exista.\n",
    "* Cada condición es comprobada en orden. Si la primera es falsa, se comprueba la siguiente y así con las demás. Si una de ellas es verdadera, se ejecuta la rama correspondiente, y la sentencia termina. Incluso si hay más de una condición que sea verdadera, sólo se ejecuta la primera que se encuentra.\n",
    "\n",
    "Un condicional puede también estar anidado dentro de otro:"
   ]
  },
  {
   "cell_type": "code",
   "execution_count": 42,
   "metadata": {
    "collapsed": false,
    "jupyter": {
     "outputs_hidden": false
    }
   },
   "outputs": [
    {
     "name": "stdout",
     "output_type": "stream",
     "text": [
      "x es positivo\n",
      "x es menor o igual que 20\n"
     ]
    }
   ],
   "source": [
    "x = 14\n",
    "if (x > 0):\n",
    "   print(\"x es positivo\")\n",
    "   if (x <= 20):\n",
    "        print(\"x es menor o igual que 20\")\n",
    "   else:\n",
    "        print(\"x es más grande que 20\")\n",
    "else:\n",
    "    print(\"x es negativo\")"
   ]
  },
  {
   "cell_type": "markdown",
   "metadata": {},
   "source": [
    "El condicional exterior contiene dos ramas. La primera contiene otra sentencia if, que tiene a su vez sus propias dos ramas. Esas dos ramas son ambas sentencias simples, pero podrían haber sido sentencias condicionales también. La segunda rama ejecuta una sentencia simple. Los condicionales anidados pueden volverse difíciles de leer por lo que deben evitarse y usar operadores lógicos que permiten simplificar las sentencias condicionales anidadas."
   ]
  },
  {
   "cell_type": "markdown",
   "metadata": {},
   "source": [
    "### 2.2.Bucles <a class=\"anchor\" id=\"sec2.2\"></a>"
   ]
  },
  {
   "cell_type": "markdown",
   "metadata": {},
   "source": [
    "Los bucles permiten la repetición de acciones y generalmente se construyen así:\n",
    "* Se inicializan una o más variables antes de que el bucle comience\n",
    "* Se realiza alguna operación con cada elemento en el cuerpo del bucle, posiblemente cambiando las variables dentro de ese cuerpo.\n",
    "* Se revisan las variables resultantes cuando el bucle se completa\n",
    "El primer tipo de bucle es el __while__, que tiene la siguiente estructura: \n",
    "\n",
    "      while <expresión booleana>: \n",
    "          <código>\n",
    "\n",
    "Por ejemplo:"
   ]
  },
  {
   "cell_type": "code",
   "execution_count": 43,
   "metadata": {
    "collapsed": false,
    "jupyter": {
     "outputs_hidden": false
    }
   },
   "outputs": [
    {
     "name": "stdout",
     "output_type": "stream",
     "text": [
      "3 * 3 = 9\n"
     ]
    }
   ],
   "source": [
    "x = 3\n",
    "ans = 0\n",
    "guarda = x\n",
    "while guarda != 0:\n",
    "   ans = ans+x\n",
    "   guarda = guarda-1\n",
    "    \n",
    "print(f\"{x} * {x} = {ans}\")\n",
    "# Cadenas-f (f-strings): cadenas de texto que comienzan con f\"...\"\n",
    "# Equivalente a\n",
    "# print(str(x) + \"*\" + str(x) + \"=\" + str(ans))\n",
    "# pero más elegante y pythónico"
   ]
  },
  {
   "cell_type": "markdown",
   "metadata": {},
   "source": [
    "Observar que:\n",
    "* El bucle nunca se ejecuta cuando x=0 y nunca terminará si empieza con x<0.\n",
    "* Cada vez que se ejecuta el cuerpo del bucle se dice que se realiza una __iteración__. \n",
    "* El cuerpo del bucle debe cambiar el valor de una o más variables, de modo que la condición pueda en algún momento evaluarse como falsa y el bucle termine. La variable que cambia cada vez que el bucle se ejecuta y controla cuándo termina éste, recibe el nombre de variable de iteración.  Si no hay variable de iteración, el bucle se repetirá para siempre, resultando así un bucle infinito. \n",
    "* A veces no se sabe si hay que terminar un bucle hasta que se ha recorrido la mitad del cuerpo del mismo. En ese caso se puede crear un bucle infinito a propósito y usar la sentencia __break__ para salir explícitamente cuando se haya alcanzado la condición de salida."
   ]
  },
  {
   "cell_type": "markdown",
   "metadata": {},
   "source": [
    "También existen los bucles *for* para recorrer secuencias de valores:\n",
    "\n",
    "    for <variable> in <secuencia>:\n",
    "        <código>"
   ]
  },
  {
   "cell_type": "code",
   "execution_count": 44,
   "metadata": {},
   "outputs": [
    {
     "name": "stdout",
     "output_type": "stream",
     "text": [
      "hola 4\n",
      "bienvenido 10\n",
      "buenos días 11\n"
     ]
    }
   ],
   "source": [
    "l = [\"hola\", \"bienvenido\", \"buenos días\"]\n",
    "for saludo in l:\n",
    "    print(saludo, len(saludo))"
   ]
  },
  {
   "cell_type": "code",
   "execution_count": 45,
   "metadata": {
    "collapsed": false,
    "jupyter": {
     "outputs_hidden": false
    }
   },
   "outputs": [
    {
     "name": "stdout",
     "output_type": "stream",
     "text": [
      "0\n",
      "1\n",
      "2\n",
      "3\n",
      "4\n"
     ]
    }
   ],
   "source": [
    "x = 5\n",
    "for i in range(x):\n",
    "    print(i)"
   ]
  },
  {
   "cell_type": "markdown",
   "metadata": {},
   "source": [
    "El bucle for se repite a través de un conjunto conocido de elementos, de modo que ejecuta tantas iteraciones como elementos hay en el conjunto. Es útil utilizar la función __range__ para crear una secuencia. `range()` puede tomar uno o dos valores:\n",
    "* Si toma dos valores, genera todos los enteros desde la primer entrada hasta la segunda entrada-1.Por ejemplo: range (2, 5) = (2, 3, 4).\n",
    "* Y si toma un sólo parámetro, entonces range(x) = range(0,x)\n",
    "\n",
    "Los bucles pueden estar anidados como por ejemplo:"
   ]
  },
  {
   "cell_type": "code",
   "execution_count": 46,
   "metadata": {
    "collapsed": false,
    "jupyter": {
     "outputs_hidden": false
    }
   },
   "outputs": [
    {
     "name": "stdout",
     "output_type": "stream",
     "text": [
      "0*0 = 0\n",
      "1*0 = 0\n",
      "2*0 = 0\n",
      "3*0 = 0\n",
      "0*1 = 0\n",
      "1*1 = 1\n",
      "2*1 = 2\n",
      "3*1 = 3\n",
      "0*2 = 0\n",
      "1*2 = 2\n",
      "2*2 = 4\n",
      "3*2 = 6\n",
      "0*3 = 0\n",
      "1*3 = 3\n",
      "2*3 = 6\n",
      "3*3 = 9\n"
     ]
    }
   ],
   "source": [
    "x = 4\n",
    "for j in range(x):\n",
    "   for i in range(x):\n",
    "       print(f\"{i}*{j} = {i*j}\")"
   ]
  },
  {
   "cell_type": "markdown",
   "metadata": {},
   "source": [
    "## 3. Estructuras de datos: tuplas, listas y diccionarios <a class=\"anchor\" id=\"sec3\"></a>"
   ]
  },
  {
   "cell_type": "markdown",
   "metadata": {},
   "source": [
    "### 3.1. Tuplas <a class=\"anchor\" id=\"sec3.1\"></a>\n",
    "Una tupla es una secuencia de valores de cualquier tipo indexada por enteros. Las tuplas son inmutables (tienen una longitud fija y no pueden cambiarse sus elementos) y son comparables.\n",
    "\n",
    "Sintácticamente, una tupla es una lista de valores separados por comas y encerradas entre paréntesis. Por ejemplo:"
   ]
  },
  {
   "cell_type": "code",
   "execution_count": 47,
   "metadata": {
    "collapsed": false,
    "jupyter": {
     "outputs_hidden": false
    }
   },
   "outputs": [],
   "source": [
    "t = (\"a\", \"b\", \"c\", \"d\", \"e\")"
   ]
  },
  {
   "cell_type": "markdown",
   "metadata": {},
   "source": [
    "Para crear una tupla con un único elemento, es necesario incluir una coma al final."
   ]
  },
  {
   "cell_type": "code",
   "execution_count": 48,
   "metadata": {
    "collapsed": false,
    "jupyter": {
     "outputs_hidden": false
    }
   },
   "outputs": [
    {
     "data": {
      "text/plain": [
       "(4,)"
      ]
     },
     "execution_count": 48,
     "metadata": {},
     "output_type": "execute_result"
    }
   ],
   "source": [
    "(4,)"
   ]
  },
  {
   "cell_type": "code",
   "execution_count": 49,
   "metadata": {},
   "outputs": [
    {
     "data": {
      "text/plain": [
       "tuple"
      ]
     },
     "execution_count": 49,
     "metadata": {},
     "output_type": "execute_result"
    }
   ],
   "source": [
    "type((4,))"
   ]
  },
  {
   "cell_type": "markdown",
   "metadata": {},
   "source": [
    "Otra forma de construir una tupla es usar la función interna __tuple__ que crea una tupla vacía si se invoca sin argumentos, y si se le proporciona como argumento una secuencia (cadena, lista o tulpa) genera una tulpa con los elementos de la secuencia.\n",
    "\n",
    "Por ejemplo:"
   ]
  },
  {
   "cell_type": "code",
   "execution_count": 50,
   "metadata": {
    "collapsed": false,
    "jupyter": {
     "outputs_hidden": false
    }
   },
   "outputs": [
    {
     "name": "stdout",
     "output_type": "stream",
     "text": [
      "()\n"
     ]
    }
   ],
   "source": [
    "t = tuple()\n",
    "print(t)"
   ]
  },
  {
   "cell_type": "code",
   "execution_count": 51,
   "metadata": {
    "collapsed": false,
    "jupyter": {
     "outputs_hidden": false
    }
   },
   "outputs": [
    {
     "name": "stdout",
     "output_type": "stream",
     "text": [
      "('s', 'u', 'p', 'e', 'r', 'c', 'a', 'l', 'i', 'f', 'r', 'a', 's', 't', 'i', 'l', 'i', 's', 't', 'i', 'c', 'o', 'e', 's', 'p', 'i', 'd', 'a', 'l', 'i', 'd', 'o', 's', 'o')\n"
     ]
    }
   ],
   "source": [
    "t = tuple(\"supercalifrastilisticoespidalidoso\")\n",
    "print(t)"
   ]
  },
  {
   "cell_type": "markdown",
   "metadata": {},
   "source": [
    "Los principales operadores sobre tuplas son:\n",
    "* El operador corchete indexa un elemento."
   ]
  },
  {
   "cell_type": "code",
   "execution_count": 52,
   "metadata": {
    "collapsed": false,
    "jupyter": {
     "outputs_hidden": false
    }
   },
   "outputs": [
    {
     "name": "stdout",
     "output_type": "stream",
     "text": [
      "3\n"
     ]
    }
   ],
   "source": [
    "t = (3, 5, \"c\", \"d\", \"e\")\n",
    "print(t[0])"
   ]
  },
  {
   "cell_type": "markdown",
   "metadata": {},
   "source": [
    "* El operador slice selecciona un rango de elementos."
   ]
  },
  {
   "cell_type": "code",
   "execution_count": 53,
   "metadata": {
    "collapsed": false,
    "jupyter": {
     "outputs_hidden": false
    }
   },
   "outputs": [
    {
     "data": {
      "text/plain": [
       "(5, 'c')"
      ]
     },
     "execution_count": 53,
     "metadata": {},
     "output_type": "execute_result"
    }
   ],
   "source": [
    "t[1:3]"
   ]
  },
  {
   "cell_type": "markdown",
   "metadata": {},
   "source": [
    "* No se pueden modificar los elementos de una tupla, pero se puede reemplazar una tupla con otra."
   ]
  },
  {
   "cell_type": "code",
   "execution_count": 54,
   "metadata": {
    "collapsed": false,
    "jupyter": {
     "outputs_hidden": false
    }
   },
   "outputs": [],
   "source": [
    "#t[1] = 45 # TypeError: 'tuple' object does not support item assignment"
   ]
  },
  {
   "cell_type": "code",
   "execution_count": 55,
   "metadata": {
    "collapsed": false,
    "jupyter": {
     "outputs_hidden": false
    }
   },
   "outputs": [
    {
     "name": "stdout",
     "output_type": "stream",
     "text": [
      "('h', 'o', 'l', 'a')\n"
     ]
    }
   ],
   "source": [
    "t = (\"h\",\"o\",\"l\",\"a\")\n",
    "print (t)"
   ]
  },
  {
   "cell_type": "markdown",
   "metadata": {},
   "source": [
    "* Se pueden comparar dos tuplas. Se comienza comparando el primer elemento de cada secuencia. Si es igual en ambas, pasa al siguiente elemento, y así sucesivamente, hasta que encuentra uno que es diferente. A partir de ese momento, los elementos siguientes ya no son tenidos en cuenta."
   ]
  },
  {
   "cell_type": "code",
   "execution_count": 56,
   "metadata": {
    "collapsed": false,
    "jupyter": {
     "outputs_hidden": false
    }
   },
   "outputs": [
    {
     "data": {
      "text/plain": [
       "True"
      ]
     },
     "execution_count": 56,
     "metadata": {},
     "output_type": "execute_result"
    }
   ],
   "source": [
    "(0, 1, 2) < (0, 3, 4)"
   ]
  },
  {
   "cell_type": "code",
   "execution_count": 57,
   "metadata": {},
   "outputs": [
    {
     "data": {
      "text/plain": [
       "False"
      ]
     },
     "execution_count": 57,
     "metadata": {},
     "output_type": "execute_result"
    }
   ],
   "source": [
    "(0, 1, 2) < (0, 0)"
   ]
  },
  {
   "cell_type": "markdown",
   "metadata": {},
   "source": [
    "### 3.2. Listas <a class=\"anchor\" id=\"sec3.2\"></a>\n",
    "Una lista es una secuencia de valoresde cualquier tipo que reciben el nombre de elementos. El método más simple para crear una lista es encerrar los elementos entre corchetes. Por ejemplo:"
   ]
  },
  {
   "cell_type": "code",
   "execution_count": 58,
   "metadata": {},
   "outputs": [
    {
     "data": {
      "text/plain": [
       "[10, 20, 30, 40]"
      ]
     },
     "execution_count": 58,
     "metadata": {},
     "output_type": "execute_result"
    }
   ],
   "source": [
    "t = [10, 20, 30, 40]\n",
    "t"
   ]
  },
  {
   "cell_type": "markdown",
   "metadata": {},
   "source": [
    "La asignación de valores a una lista no retorna nada, sin embargo si usamos el nombre de la lista, podemos ver el contenido de la variable. Por ejemplo:"
   ]
  },
  {
   "cell_type": "markdown",
   "metadata": {},
   "source": [
    "Una lista que no contiene elementos recibe el nombre de lista vacía(se crea con unos corchetes vacíos []).  Por ejemplo:"
   ]
  },
  {
   "cell_type": "code",
   "execution_count": 59,
   "metadata": {
    "collapsed": false,
    "jupyter": {
     "outputs_hidden": false
    }
   },
   "outputs": [
    {
     "data": {
      "text/plain": [
       "[]"
      ]
     },
     "execution_count": 59,
     "metadata": {},
     "output_type": "execute_result"
    }
   ],
   "source": [
    "t = []\n",
    "t"
   ]
  },
  {
   "cell_type": "markdown",
   "metadata": {},
   "source": [
    "Para acceder a los elementos de una lista se usa el operador corchete que contiene una expresión que especifica el índice (los índices comienzan por 0). Los índices de una lista se caracterizan por:\n",
    "* Cualquier expresión entera puede ser utilizada como índice.\n",
    "* Si se intenta leer o escribir un elemento que no existe, se obtiene un IndexError.\n",
    "* Si un índice tiene un valor negativo, se cuenta hacia atrás desde el final de la lista.\n",
    "\n",
    "Por ejemplo:"
   ]
  },
  {
   "cell_type": "code",
   "execution_count": 60,
   "metadata": {
    "collapsed": false,
    "jupyter": {
     "outputs_hidden": false
    }
   },
   "outputs": [
    {
     "data": {
      "text/plain": [
       "30"
      ]
     },
     "execution_count": 60,
     "metadata": {},
     "output_type": "execute_result"
    }
   ],
   "source": [
    "t = [10, 20, 30, 40]\n",
    "t[2]"
   ]
  },
  {
   "cell_type": "markdown",
   "metadata": {},
   "source": [
    "Las listas son mutables puesto que su estructura puede ser cambiada después de creadas. Por ejemplo:"
   ]
  },
  {
   "cell_type": "code",
   "execution_count": 61,
   "metadata": {
    "collapsed": false,
    "jupyter": {
     "outputs_hidden": false
    }
   },
   "outputs": [
    {
     "name": "stdout",
     "output_type": "stream",
     "text": [
      "[17, 5]\n"
     ]
    }
   ],
   "source": [
    "numeros = [17, 123]\n",
    "numeros[1] = 5\n",
    "print(numeros)"
   ]
  },
  {
   "cell_type": "markdown",
   "metadata": {},
   "source": [
    "Los elementos en una lista no tienen por qué ser todos del mismo tipo. Por ejemplo:"
   ]
  },
  {
   "cell_type": "code",
   "execution_count": 62,
   "metadata": {
    "collapsed": false,
    "jupyter": {
     "outputs_hidden": false
    }
   },
   "outputs": [
    {
     "data": {
      "text/plain": [
       "['casa', 3.0, 5, [11, 20]]"
      ]
     },
     "execution_count": 62,
     "metadata": {},
     "output_type": "execute_result"
    }
   ],
   "source": [
    "[\"casa\", 3.0, 5, [11,20]]"
   ]
  },
  {
   "cell_type": "markdown",
   "metadata": {},
   "source": [
    "Una lista dentro de otra se dice que está anidada. En una lista anidada, cada lista interna sólo cuenta como un único elemento.Por ejemplo:"
   ]
  },
  {
   "cell_type": "code",
   "execution_count": 63,
   "metadata": {
    "collapsed": false,
    "jupyter": {
     "outputs_hidden": false
    }
   },
   "outputs": [
    {
     "data": {
      "text/plain": [
       "[1, 2, [4, 5, 6]]"
      ]
     },
     "execution_count": 63,
     "metadata": {},
     "output_type": "execute_result"
    }
   ],
   "source": [
    "t = [1, 2, [4,5,6]]\n",
    "t"
   ]
  },
  {
   "cell_type": "markdown",
   "metadata": {},
   "source": [
    "Soporta indexación con números negativos, que permite seleccionar por el final de la lista. Por ejemplo:"
   ]
  },
  {
   "cell_type": "code",
   "execution_count": 64,
   "metadata": {
    "collapsed": false,
    "jupyter": {
     "outputs_hidden": false
    }
   },
   "outputs": [
    {
     "data": {
      "text/plain": [
       "[4, 5, 6]"
      ]
     },
     "execution_count": 64,
     "metadata": {},
     "output_type": "execute_result"
    }
   ],
   "source": [
    "t= [1, 2, [4,5,6]]\n",
    "t[-1]"
   ]
  },
  {
   "cell_type": "markdown",
   "metadata": {},
   "source": [
    "__Operadores y funciones asociados con las listas__\n",
    "* El operador __+__ concatena listas."
   ]
  },
  {
   "cell_type": "code",
   "execution_count": 65,
   "metadata": {
    "collapsed": false,
    "jupyter": {
     "outputs_hidden": false
    }
   },
   "outputs": [
    {
     "data": {
      "text/plain": [
       "[1, 2, 3, 4, 5, 6]"
      ]
     },
     "execution_count": 65,
     "metadata": {},
     "output_type": "execute_result"
    }
   ],
   "source": [
    "a = [1, 2, 3]\n",
    "b = [4, 5, 6]\n",
    "a + b"
   ]
  },
  {
   "cell_type": "markdown",
   "metadata": {},
   "source": [
    "* El operador __in__ permite preguntar la pertenencia de un elemento a una lista"
   ]
  },
  {
   "cell_type": "code",
   "execution_count": 66,
   "metadata": {
    "collapsed": false,
    "jupyter": {
     "outputs_hidden": false
    }
   },
   "outputs": [
    {
     "data": {
      "text/plain": [
       "True"
      ]
     },
     "execution_count": 66,
     "metadata": {},
     "output_type": "execute_result"
    }
   ],
   "source": [
    "a = [1, 2, 3]\n",
    "2 in a"
   ]
  },
  {
   "cell_type": "markdown",
   "metadata": {},
   "source": [
    "Las listas se pueden recorrer con un bucle __for__ como por ejemplo:"
   ]
  },
  {
   "cell_type": "code",
   "execution_count": 67,
   "metadata": {
    "collapsed": false,
    "jupyter": {
     "outputs_hidden": false
    }
   },
   "outputs": [
    {
     "name": "stdout",
     "output_type": "stream",
     "text": [
      "1\n",
      "2\n",
      "3\n"
     ]
    }
   ],
   "source": [
    "a = [1, 2, 3]\n",
    "for i in a:\n",
    "    print(i)"
   ]
  },
  {
   "cell_type": "markdown",
   "metadata": {},
   "source": [
    "* El operador __\\*__ repite una lista el número especificado de veces. "
   ]
  },
  {
   "cell_type": "code",
   "execution_count": 68,
   "metadata": {
    "collapsed": false,
    "jupyter": {
     "outputs_hidden": false
    }
   },
   "outputs": [
    {
     "data": {
      "text/plain": [
       "[1, 2, 3, 1, 2, 3, 1, 2, 3]"
      ]
     },
     "execution_count": 68,
     "metadata": {},
     "output_type": "execute_result"
    }
   ],
   "source": [
    "[1, 2, 3] *  3"
   ]
  },
  {
   "cell_type": "markdown",
   "metadata": {},
   "source": [
    "* El operador __(slice)__ cuya sintaxis es __[inicio:final:salto]__ permite seleccionar secciones de una lista:"
   ]
  },
  {
   "cell_type": "code",
   "execution_count": 69,
   "metadata": {
    "collapsed": false,
    "jupyter": {
     "outputs_hidden": false
    }
   },
   "outputs": [
    {
     "data": {
      "text/plain": [
       "[2]"
      ]
     },
     "execution_count": 69,
     "metadata": {},
     "output_type": "execute_result"
    }
   ],
   "source": [
    "t = [1, 2, [4,5,6]]\n",
    "t[1:2]"
   ]
  },
  {
   "cell_type": "code",
   "execution_count": 70,
   "metadata": {
    "collapsed": false,
    "jupyter": {
     "outputs_hidden": false
    }
   },
   "outputs": [
    {
     "data": {
      "text/plain": [
       "[1, 2, [4, 5, 6]]"
      ]
     },
     "execution_count": 70,
     "metadata": {},
     "output_type": "execute_result"
    }
   ],
   "source": [
    "t[:]"
   ]
  },
  {
   "cell_type": "code",
   "execution_count": 71,
   "metadata": {
    "collapsed": false,
    "jupyter": {
     "outputs_hidden": false
    }
   },
   "outputs": [
    {
     "data": {
      "text/plain": [
       "[2, [4, 5, 6]]"
      ]
     },
     "execution_count": 71,
     "metadata": {},
     "output_type": "execute_result"
    }
   ],
   "source": [
    "t[1:]"
   ]
  },
  {
   "cell_type": "code",
   "execution_count": 72,
   "metadata": {
    "collapsed": false,
    "jupyter": {
     "outputs_hidden": false
    }
   },
   "outputs": [
    {
     "data": {
      "text/plain": [
       "[1, 2]"
      ]
     },
     "execution_count": 72,
     "metadata": {},
     "output_type": "execute_result"
    }
   ],
   "source": [
    "t[:2]"
   ]
  },
  {
   "cell_type": "code",
   "execution_count": 73,
   "metadata": {
    "collapsed": false,
    "jupyter": {
     "outputs_hidden": false
    }
   },
   "outputs": [
    {
     "data": {
      "text/plain": [
       "[1, [4, 5, 6]]"
      ]
     },
     "execution_count": 73,
     "metadata": {},
     "output_type": "execute_result"
    }
   ],
   "source": [
    "t[::2]"
   ]
  },
  {
   "cell_type": "markdown",
   "metadata": {},
   "source": [
    "Un operador de slice en la parte izquierda de una asignación puede modificar múltiples elementos."
   ]
  },
  {
   "cell_type": "code",
   "execution_count": 74,
   "metadata": {
    "collapsed": false,
    "jupyter": {
     "outputs_hidden": false
    }
   },
   "outputs": [
    {
     "data": {
      "text/plain": [
       "[1, 'hola', 'adios']"
      ]
     },
     "execution_count": 74,
     "metadata": {},
     "output_type": "execute_result"
    }
   ],
   "source": [
    "t = [1, 2, [4,5,6]]\n",
    "t[1:3] = [\"hola\", \"adios\"]\n",
    "t"
   ]
  },
  {
   "cell_type": "markdown",
   "metadata": {},
   "source": [
    "* El operador __del__ elimina un elemento de la lista referenciado en forma de índice."
   ]
  },
  {
   "cell_type": "code",
   "execution_count": 75,
   "metadata": {
    "collapsed": false,
    "jupyter": {
     "outputs_hidden": false
    }
   },
   "outputs": [
    {
     "data": {
      "text/plain": [
       "['d', 'e', 'b', 'a']"
      ]
     },
     "execution_count": 75,
     "metadata": {},
     "output_type": "execute_result"
    }
   ],
   "source": [
    "t = [\"d\", \"c\", \"e\", \"b\", \"a\"]\n",
    "del t[1]\n",
    "t"
   ]
  },
  {
   "cell_type": "markdown",
   "metadata": {},
   "source": [
    "Con el operador __del__ se puede utilizar un índice slice, que selecciona todos los elementos hasta (pero sin incluir) el segundo índice."
   ]
  },
  {
   "cell_type": "code",
   "execution_count": 76,
   "metadata": {
    "collapsed": false,
    "jupyter": {
     "outputs_hidden": false
    }
   },
   "outputs": [
    {
     "data": {
      "text/plain": [
       "['d', 'b', 'a']"
      ]
     },
     "execution_count": 76,
     "metadata": {},
     "output_type": "execute_result"
    }
   ],
   "source": [
    "t=[\"d\", \"c\", \"e\", \"b\", \"a\"]\n",
    "del t[1:3]\n",
    "t"
   ]
  },
  {
   "cell_type": "markdown",
   "metadata": {},
   "source": [
    "* La función __sum ()__ permite realizar la suma de una lista de números."
   ]
  },
  {
   "cell_type": "code",
   "execution_count": 77,
   "metadata": {
    "collapsed": false,
    "jupyter": {
     "outputs_hidden": false
    }
   },
   "outputs": [
    {
     "data": {
      "text/plain": [
       "10"
      ]
     },
     "execution_count": 77,
     "metadata": {},
     "output_type": "execute_result"
    }
   ],
   "source": [
    "t = [1, 2, 3, 4]\n",
    "sum(t)"
   ]
  },
  {
   "cell_type": "markdown",
   "metadata": {},
   "source": [
    "* Las funciones __max ()__ y __min ()__ proporcionan el elemento máximo/mínimo de una lista."
   ]
  },
  {
   "cell_type": "code",
   "execution_count": 78,
   "metadata": {
    "collapsed": false,
    "jupyter": {
     "outputs_hidden": false
    }
   },
   "outputs": [
    {
     "name": "stdout",
     "output_type": "stream",
     "text": [
      "4 1\n"
     ]
    }
   ],
   "source": [
    "t = [1, 2, 3, 4]\n",
    "print(max(t), min(t))"
   ]
  },
  {
   "cell_type": "markdown",
   "metadata": {},
   "source": [
    "* La función __len ()__ proporciona la longitud de una lista."
   ]
  },
  {
   "cell_type": "code",
   "execution_count": 79,
   "metadata": {
    "collapsed": false,
    "jupyter": {
     "outputs_hidden": false
    }
   },
   "outputs": [
    {
     "data": {
      "text/plain": [
       "4"
      ]
     },
     "execution_count": 79,
     "metadata": {},
     "output_type": "execute_result"
    }
   ],
   "source": [
    "t = [1, 2, 3, 4]\n",
    "len(t)"
   ]
  },
  {
   "cell_type": "markdown",
   "metadata": {},
   "source": [
    "* La función __range ()__ crea una secuencia de valores a partir del dado como parámetro. Es útil para los bucles de tipo __for__. Por ejemplo:"
   ]
  },
  {
   "cell_type": "code",
   "execution_count": 80,
   "metadata": {
    "collapsed": false,
    "jupyter": {
     "outputs_hidden": false
    }
   },
   "outputs": [
    {
     "name": "stdout",
     "output_type": "stream",
     "text": [
      "-3\n",
      "-2\n",
      "-1\n",
      "0\n",
      "1\n",
      "2\n"
     ]
    }
   ],
   "source": [
    "lista = range(-3,3)\n",
    "for i in lista: \n",
    "    print(i)"
   ]
  },
  {
   "cell_type": "markdown",
   "metadata": {},
   "source": [
    "Para ver el contenido generado por __range()__, se debe usar el constructor __list__"
   ]
  },
  {
   "cell_type": "code",
   "execution_count": 81,
   "metadata": {
    "collapsed": false,
    "jupyter": {
     "outputs_hidden": false
    }
   },
   "outputs": [
    {
     "name": "stdout",
     "output_type": "stream",
     "text": [
      "range(-3, 3)\n",
      "[-3, -2, -1, 0, 1, 2]\n"
     ]
    }
   ],
   "source": [
    "print(range(-3,3))\n",
    "lista = range(-3,3)\n",
    "print(list(lista))"
   ]
  },
  {
   "cell_type": "markdown",
   "metadata": {},
   "source": [
    "__Métodos para manipular listas__\n",
    "* __append__ añade un nuevo elemento al final de una lista."
   ]
  },
  {
   "cell_type": "code",
   "execution_count": 82,
   "metadata": {
    "collapsed": false,
    "jupyter": {
     "outputs_hidden": false
    }
   },
   "outputs": [
    {
     "data": {
      "text/plain": [
       "[3, 4, 5, 'd']"
      ]
     },
     "execution_count": 82,
     "metadata": {},
     "output_type": "execute_result"
    }
   ],
   "source": [
    "t = [3, 4, 5]\n",
    "t.append(\"d\")\n",
    "t"
   ]
  },
  {
   "cell_type": "markdown",
   "metadata": {},
   "source": [
    "* __extend__ toma una lista como argumento y añade al final de la actual todos sus elementos."
   ]
  },
  {
   "cell_type": "code",
   "execution_count": 83,
   "metadata": {
    "collapsed": false,
    "jupyter": {
     "outputs_hidden": false
    }
   },
   "outputs": [
    {
     "data": {
      "text/plain": [
       "[3, 4, 5, 6, 7]"
      ]
     },
     "execution_count": 83,
     "metadata": {},
     "output_type": "execute_result"
    }
   ],
   "source": [
    "t1 = [3, 4, 5]\n",
    "t2 = [6, 7]\n",
    "t1.extend(t2)\n",
    "t1"
   ]
  },
  {
   "cell_type": "markdown",
   "metadata": {},
   "source": [
    "* __sort__ ordena los elementos de una lista de menor a mayor."
   ]
  },
  {
   "cell_type": "code",
   "execution_count": 84,
   "metadata": {
    "collapsed": false,
    "jupyter": {
     "outputs_hidden": false
    }
   },
   "outputs": [
    {
     "data": {
      "text/plain": [
       "['a', 'b', 'c', 'd', 'e']"
      ]
     },
     "execution_count": 84,
     "metadata": {},
     "output_type": "execute_result"
    }
   ],
   "source": [
    "t=[\"d\", \"c\", \"e\", \"b\", \"a\"]\n",
    "t.sort()\n",
    "t"
   ]
  },
  {
   "cell_type": "markdown",
   "metadata": {},
   "source": [
    "* El método __pop__ elimina un elemento de la lista referenciado en forma de índice. Devuelve el elemento que ha sido eliminado. Si no se proporciona un índice, borra y devuelve el último elemento."
   ]
  },
  {
   "cell_type": "code",
   "execution_count": 85,
   "metadata": {
    "collapsed": false,
    "jupyter": {
     "outputs_hidden": false
    }
   },
   "outputs": [
    {
     "name": "stdout",
     "output_type": "stream",
     "text": [
      "c ['d', 'e', 'b', 'a']\n"
     ]
    }
   ],
   "source": [
    "t = [\"d\", \"c\", \"e\", \"b\", \"a\"]\n",
    "x = t.pop(1)\n",
    "print(x, t)"
   ]
  },
  {
   "cell_type": "markdown",
   "metadata": {},
   "source": [
    "* El método __remove__ permite eliminar un elemento de la lista referenciandolo por su valor."
   ]
  },
  {
   "cell_type": "code",
   "execution_count": 86,
   "metadata": {
    "collapsed": false,
    "jupyter": {
     "outputs_hidden": false
    }
   },
   "outputs": [
    {
     "data": {
      "text/plain": [
       "['d', 'c', 'b', 'a']"
      ]
     },
     "execution_count": 86,
     "metadata": {},
     "output_type": "execute_result"
    }
   ],
   "source": [
    "t = [\"d\", \"c\", \"e\", \"b\", \"a\"]\n",
    "t.remove(\"e\")\n",
    "t"
   ]
  },
  {
   "cell_type": "markdown",
   "metadata": {},
   "source": [
    "__Equivalencia en las listas__"
   ]
  },
  {
   "cell_type": "markdown",
   "metadata": {},
   "source": [
    "En Python dos listas son equivalentes si tienen los mismos elementos, pero no es imprescindible que idénticas (sean exactamente la misma lista). Sin embargo, si dos listas son idénticas, también son equivalentes, es decir, la equivalencia no implica que sean idénticas. Para comprobar si dos variables son idénticas se puede usar el operador __is__.\n",
    "\n",
    "En este ejemplo a y b son equivalentes pero no idénticas"
   ]
  },
  {
   "cell_type": "code",
   "execution_count": 87,
   "metadata": {
    "collapsed": false,
    "jupyter": {
     "outputs_hidden": false
    }
   },
   "outputs": [
    {
     "data": {
      "text/plain": [
       "False"
      ]
     },
     "execution_count": 87,
     "metadata": {},
     "output_type": "execute_result"
    }
   ],
   "source": [
    "a = [1, 2, 3]\n",
    "b = [1, 2, 3]\n",
    "a is b"
   ]
  },
  {
   "cell_type": "code",
   "execution_count": 88,
   "metadata": {},
   "outputs": [
    {
     "name": "stdout",
     "output_type": "stream",
     "text": [
      "135702902838656\n",
      "135702902837504\n"
     ]
    }
   ],
   "source": [
    "# Podemos comprobar que la listas no son idénticas viendo su dirección de memoria \n",
    "print(id(a))\n",
    "print(id(b))"
   ]
  },
  {
   "cell_type": "code",
   "execution_count": 89,
   "metadata": {},
   "outputs": [
    {
     "data": {
      "text/plain": [
       "True"
      ]
     },
     "execution_count": 89,
     "metadata": {},
     "output_type": "execute_result"
    }
   ],
   "source": [
    "# Sin embargo, son equivalentes\n",
    "a == b"
   ]
  },
  {
   "cell_type": "markdown",
   "metadata": {},
   "source": [
    "En este ejemplo a y b son idénticas"
   ]
  },
  {
   "cell_type": "code",
   "execution_count": 90,
   "metadata": {
    "collapsed": false,
    "jupyter": {
     "outputs_hidden": false
    }
   },
   "outputs": [
    {
     "data": {
      "text/plain": [
       "True"
      ]
     },
     "execution_count": 90,
     "metadata": {},
     "output_type": "execute_result"
    }
   ],
   "source": [
    "a =[1, 2, 3]\n",
    "b = a\n",
    "a is b"
   ]
  },
  {
   "cell_type": "code",
   "execution_count": 91,
   "metadata": {},
   "outputs": [
    {
     "data": {
      "text/plain": [
       "True"
      ]
     },
     "execution_count": 91,
     "metadata": {},
     "output_type": "execute_result"
    }
   ],
   "source": [
    "a == b"
   ]
  },
  {
   "cell_type": "markdown",
   "metadata": {},
   "source": [
    "Si a y b son idénticas significa que la lista tiene dos referencias o nombres diferentes. Así, los cambios que se hagan usando cualquiera de los nombres afectan a la misma lista"
   ]
  },
  {
   "cell_type": "code",
   "execution_count": 92,
   "metadata": {
    "collapsed": false,
    "jupyter": {
     "outputs_hidden": false
    }
   },
   "outputs": [
    {
     "data": {
      "text/plain": [
       "[45, 2, 3]"
      ]
     },
     "execution_count": 92,
     "metadata": {},
     "output_type": "execute_result"
    }
   ],
   "source": [
    "a = [1, 2, 3]\n",
    "b = a\n",
    "b[0] = 45\n",
    "a"
   ]
  },
  {
   "cell_type": "markdown",
   "metadata": {},
   "source": [
    "Observar que:\n",
    " * Las operaciones que se realizan sobre las listas hay operaciones que modifican listas y otras que crean listas nuevas. Por ejemplo el método __append__ modifica una lista, pero el operador __+__ crea una lista nueva.\n"
   ]
  },
  {
   "cell_type": "code",
   "execution_count": 93,
   "metadata": {
    "collapsed": false,
    "jupyter": {
     "outputs_hidden": false
    }
   },
   "outputs": [
    {
     "name": "stdout",
     "output_type": "stream",
     "text": [
      "[2, 3, 4] [2, 3, 4, 5]\n"
     ]
    }
   ],
   "source": [
    "t1 = [2,3]\n",
    "t2 = [5]\n",
    "t1.append(4)\n",
    "print(t1, t1+t2)"
   ]
  },
  {
   "cell_type": "markdown",
   "metadata": {},
   "source": [
    "* La mayoría de los métodos modifican la lista y devuelven el valor __None__ ."
   ]
  },
  {
   "cell_type": "markdown",
   "metadata": {},
   "source": [
    "__Cadenas y listas__"
   ]
  },
  {
   "cell_type": "markdown",
   "metadata": {},
   "source": [
    "Una cadena es una secuencia de caracteres y una lista es una secuencia de valores, pero una lista de caracteres no es lo mismo que una cadena. Para convertir desde una cadena a una lista de caracteres, se puede usar la función list que divide una cadena en letras individuales."
   ]
  },
  {
   "cell_type": "code",
   "execution_count": 94,
   "metadata": {
    "collapsed": false,
    "jupyter": {
     "outputs_hidden": false
    }
   },
   "outputs": [
    {
     "name": "stdout",
     "output_type": "stream",
     "text": [
      "['c', 'a', 's', 'a']\n"
     ]
    }
   ],
   "source": [
    "s = \"casa\"\n",
    "t = list(s)\n",
    "print(t)"
   ]
  },
  {
   "cell_type": "markdown",
   "metadata": {},
   "source": [
    "Si se quiere dividir una cadena en palabras, puedes usar el método __split__.Por ejemplo:"
   ]
  },
  {
   "cell_type": "code",
   "execution_count": 95,
   "metadata": {
    "collapsed": false,
    "jupyter": {
     "outputs_hidden": false
    }
   },
   "outputs": [
    {
     "data": {
      "text/plain": [
       "['El', 'camión', 'rojo', 'de', 'Juan']"
      ]
     },
     "execution_count": 95,
     "metadata": {},
     "output_type": "execute_result"
    }
   ],
   "source": [
    "s = \"El camión rojo de Juan\"\n",
    "t = s.split()\n",
    "t"
   ]
  },
  {
   "cell_type": "markdown",
   "metadata": {},
   "source": [
    "Una vez usado __split__ se puede utilizar el operador índice (corchetes) para buscar una palabra concreta en la lista."
   ]
  },
  {
   "cell_type": "code",
   "execution_count": 96,
   "metadata": {
    "collapsed": false,
    "jupyter": {
     "outputs_hidden": false
    }
   },
   "outputs": [
    {
     "data": {
      "text/plain": [
       "'rojo'"
      ]
     },
     "execution_count": 96,
     "metadata": {},
     "output_type": "execute_result"
    }
   ],
   "source": [
    "t[2]"
   ]
  },
  {
   "cell_type": "markdown",
   "metadata": {},
   "source": [
    "Se puede llamar a __split__ con un argumento opcional llamado delimitador, que especifica qué caracteres se deben usar como delimitadores de palabras."
   ]
  },
  {
   "cell_type": "code",
   "execution_count": 97,
   "metadata": {
    "collapsed": false,
    "jupyter": {
     "outputs_hidden": false
    }
   },
   "outputs": [
    {
     "data": {
      "text/plain": [
       "['El', 'camión', 'rojo', 'de', 'Juan']"
      ]
     },
     "execution_count": 97,
     "metadata": {},
     "output_type": "execute_result"
    }
   ],
   "source": [
    "s = \"El-camión-rojo-de-Juan\"\n",
    "delimitador = \"-\"\n",
    "s.split(delimitador)"
   ]
  },
  {
   "cell_type": "markdown",
   "metadata": {},
   "source": [
    "__join__ es la inversa de __split__ y toma una lista de cadenas y concatena sus elementos. Al ser un método de cadena debe invocarse sobre el delimitador y pasarle la lista como un parámetro. Por ejemplo:"
   ]
  },
  {
   "cell_type": "code",
   "execution_count": 98,
   "metadata": {
    "collapsed": false,
    "jupyter": {
     "outputs_hidden": false
    }
   },
   "outputs": [
    {
     "data": {
      "text/plain": [
       "'El camión rojo de Juan'"
      ]
     },
     "execution_count": 98,
     "metadata": {},
     "output_type": "execute_result"
    }
   ],
   "source": [
    "t = [\"El\", \"camión\", \"rojo\", \"de\", \"Juan\"]\n",
    "delimitador = \" \"\n",
    "delimitador.join(t)"
   ]
  },
  {
   "cell_type": "markdown",
   "metadata": {},
   "source": [
    "__Definición de listas por comprensión__"
   ]
  },
  {
   "cell_type": "markdown",
   "metadata": {},
   "source": [
    "Una lista por comprensión (en inglés: list comprehension) es una expresión compacta para definir listas, conjuntos y diccionarios en Python.\n",
    "\n",
    "  * Se trata de definir cada uno de los elementos sin tener que nombrar cada uno de ellos.\n",
    "\n",
    "  * La forma general es:\n",
    "\n",
    "         [exp for val in <coleccion> if <condicion>]\n",
    "\n",
    "Ejemplos:"
   ]
  },
  {
   "cell_type": "code",
   "execution_count": 99,
   "metadata": {
    "collapsed": false,
    "jupyter": {
     "outputs_hidden": false
    }
   },
   "outputs": [
    {
     "data": {
      "text/plain": [
       "[3, 4, 5]"
      ]
     },
     "execution_count": 99,
     "metadata": {},
     "output_type": "execute_result"
    }
   ],
   "source": [
    "[x for x in [3,4,5]]"
   ]
  },
  {
   "cell_type": "code",
   "execution_count": 100,
   "metadata": {
    "collapsed": false,
    "jupyter": {
     "outputs_hidden": false
    }
   },
   "outputs": [
    {
     "data": {
      "text/plain": [
       "[6, 7, 8, 9, 10]"
      ]
     },
     "execution_count": 100,
     "metadata": {},
     "output_type": "execute_result"
    }
   ],
   "source": [
    "[x+5 for x in [1,2,3,4,5]]"
   ]
  },
  {
   "cell_type": "code",
   "execution_count": 101,
   "metadata": {
    "collapsed": false,
    "jupyter": {
     "outputs_hidden": false
    }
   },
   "outputs": [
    {
     "data": {
      "text/plain": [
       "[9, 10]"
      ]
     },
     "execution_count": 101,
     "metadata": {},
     "output_type": "execute_result"
    }
   ],
   "source": [
    "[x+5 for x in [1,2,3,4,5] if x>3]"
   ]
  },
  {
   "cell_type": "code",
   "execution_count": 102,
   "metadata": {
    "collapsed": false,
    "jupyter": {
     "outputs_hidden": false
    }
   },
   "outputs": [
    {
     "data": {
      "text/plain": [
       "[1, 3, 5]"
      ]
     },
     "execution_count": 102,
     "metadata": {},
     "output_type": "execute_result"
    }
   ],
   "source": [
    "[x for x,y in [(1,2), (3,4), (5,6)] ]"
   ]
  },
  {
   "cell_type": "code",
   "execution_count": 103,
   "metadata": {
    "collapsed": false,
    "jupyter": {
     "outputs_hidden": false
    }
   },
   "outputs": [
    {
     "data": {
      "text/plain": [
       "[1, 3, 5]"
      ]
     },
     "execution_count": 103,
     "metadata": {},
     "output_type": "execute_result"
    }
   ],
   "source": [
    "[p[0] for p in [(1,2), (3,4), (5,6)] ]"
   ]
  },
  {
   "cell_type": "code",
   "execution_count": 104,
   "metadata": {
    "collapsed": false,
    "jupyter": {
     "outputs_hidden": false
    }
   },
   "outputs": [
    {
     "data": {
      "text/plain": [
       "[16, 36]"
      ]
     },
     "execution_count": 104,
     "metadata": {},
     "output_type": "execute_result"
    }
   ],
   "source": [
    "[y**2 for x,y in [(1,2), (3,4), (5,6)] if x > 2 ]"
   ]
  },
  {
   "cell_type": "code",
   "execution_count": 105,
   "metadata": {
    "collapsed": false,
    "jupyter": {
     "outputs_hidden": false
    }
   },
   "outputs": [
    {
     "data": {
      "text/plain": [
       "['A', 'B', 'G', 'H', 'N']"
      ]
     },
     "execution_count": 105,
     "metadata": {},
     "output_type": "execute_result"
    }
   ],
   "source": [
    "# Se puede usar cualquier colección, por ejemplo una cadena de texto\n",
    "letras = 'abghn'\n",
    "mayusculas = [a.upper() for a in letras]\n",
    "mayusculas"
   ]
  },
  {
   "cell_type": "code",
   "execution_count": 106,
   "metadata": {},
   "outputs": [
    {
     "data": {
      "text/plain": [
       "[35, 70]"
      ]
     },
     "execution_count": 106,
     "metadata": {},
     "output_type": "execute_result"
    }
   ],
   "source": [
    "# Número múltiplos de 5 y 7 entre el 1 y el 99\n",
    "[x for x in range(1,100) if x%5 == 0 and x%7 == 0]"
   ]
  },
  {
   "cell_type": "markdown",
   "metadata": {},
   "source": [
    "### 3.3. Diccionarios <a class=\"anchor\" id=\"sec3.3\"></a>\n",
    "Un diccionario es una colección  __no ordenada__ de pares __clave - valor__ donde la clave y el valor son objetos pueden ser de (casi) cualquier tipo. \n",
    "\n",
    "La función dict () crea un diccionario nuevo sin elementos."
   ]
  },
  {
   "cell_type": "code",
   "execution_count": 107,
   "metadata": {
    "collapsed": false,
    "jupyter": {
     "outputs_hidden": false
    }
   },
   "outputs": [
    {
     "name": "stdout",
     "output_type": "stream",
     "text": [
      "{}\n"
     ]
    }
   ],
   "source": [
    "ejemplo = dict()\n",
    "print(ejemplo)"
   ]
  },
  {
   "cell_type": "markdown",
   "metadata": {},
   "source": [
    "Las llaves {}, representan un diccionario vacío. \n",
    "\n",
    "Para añadir elementos al diccionario se pueden usar corchetes, y usar acceso indexado a través de la clave.\n",
    "\n",
    "Por ejemplo:"
   ]
  },
  {
   "cell_type": "code",
   "execution_count": 108,
   "metadata": {
    "collapsed": false,
    "jupyter": {
     "outputs_hidden": false
    }
   },
   "outputs": [
    {
     "name": "stdout",
     "output_type": "stream",
     "text": [
      "{'primero': 'Libro'}\n"
     ]
    }
   ],
   "source": [
    "ejemplo[\"primero\"] = \"Libro\"\n",
    "print(ejemplo)"
   ]
  },
  {
   "cell_type": "markdown",
   "metadata": {},
   "source": [
    "Otra forma de crear un diccionario es mediante una secuencia de pares clave-valor separados por comas y encerrados entre llaves.\n",
    "\n",
    "Por ejemplo:"
   ]
  },
  {
   "cell_type": "code",
   "execution_count": 109,
   "metadata": {
    "collapsed": false,
    "jupyter": {
     "outputs_hidden": false
    }
   },
   "outputs": [
    {
     "name": "stdout",
     "output_type": "stream",
     "text": [
      "{'primero': 'libro', 'segundo': 34, 'tercero': (3, 4)}\n"
     ]
    }
   ],
   "source": [
    "ejemplo2 = {\"primero\":\"libro\", \"segundo\":34, \"tercero\":(3,4)}\n",
    "print(ejemplo2)"
   ]
  },
  {
   "cell_type": "markdown",
   "metadata": {
    "collapsed": true,
    "jupyter": {
     "outputs_hidden": true
    }
   },
   "source": [
    "El orden de los elementos en un diccionario es impredecible, pero eso no es importante dado que se usan las claves para buscar los valores correspondientes. En este sentido si la clave especificada no está en el diccionario se obtiene una excepción. \n",
    "\n",
    "Algunos métodos:\n",
    "* La función __len__ devuelve el número de parejas clave-valor."
   ]
  },
  {
   "cell_type": "code",
   "execution_count": 110,
   "metadata": {
    "collapsed": false,
    "jupyter": {
     "outputs_hidden": false
    }
   },
   "outputs": [
    {
     "data": {
      "text/plain": [
       "3"
      ]
     },
     "execution_count": 110,
     "metadata": {},
     "output_type": "execute_result"
    }
   ],
   "source": [
    "len(ejemplo2)"
   ]
  },
  {
   "cell_type": "markdown",
   "metadata": {},
   "source": [
    "* El operador __in__ dice si algo aparece como clave en el diccionario."
   ]
  },
  {
   "cell_type": "code",
   "execution_count": 111,
   "metadata": {
    "collapsed": false,
    "jupyter": {
     "outputs_hidden": false
    }
   },
   "outputs": [
    {
     "data": {
      "text/plain": [
       "True"
      ]
     },
     "execution_count": 111,
     "metadata": {},
     "output_type": "execute_result"
    }
   ],
   "source": [
    "\"primero\" in ejemplo2"
   ]
  },
  {
   "cell_type": "markdown",
   "metadata": {},
   "source": [
    "* Para ver si algo aparece como valor en un diccionario, se puede usar el método __values__, que devuelve los valores como una lista, y después usar el operador __in__ sobre esa lista"
   ]
  },
  {
   "cell_type": "code",
   "execution_count": 112,
   "metadata": {
    "collapsed": false,
    "jupyter": {
     "outputs_hidden": false
    }
   },
   "outputs": [
    {
     "data": {
      "text/plain": [
       "False"
      ]
     },
     "execution_count": 112,
     "metadata": {},
     "output_type": "execute_result"
    }
   ],
   "source": [
    "valores = ejemplo2.values()\n",
    "\"uno\" in valores"
   ]
  },
  {
   "cell_type": "markdown",
   "metadata": {},
   "source": [
    "* El método __get__ toma una clave y un valor por defecto. Si la clave aparece en el diccionario get devuelve el valor correspondiente. En caso contrario devuelve el valor por defecto."
   ]
  },
  {
   "cell_type": "code",
   "execution_count": 113,
   "metadata": {
    "collapsed": false,
    "jupyter": {
     "outputs_hidden": false
    }
   },
   "outputs": [
    {
     "data": {
      "text/plain": [
       "0"
      ]
     },
     "execution_count": 113,
     "metadata": {},
     "output_type": "execute_result"
    }
   ],
   "source": [
    "contadores={\"naranjas\": 1, \"limones\": 42, \"peras\": 100}\n",
    "contadores.get(\"uvas\", 0)"
   ]
  },
  {
   "cell_type": "code",
   "execution_count": 114,
   "metadata": {},
   "outputs": [
    {
     "data": {
      "text/plain": [
       "100"
      ]
     },
     "execution_count": 114,
     "metadata": {},
     "output_type": "execute_result"
    }
   ],
   "source": [
    "contadores.get('peras')"
   ]
  },
  {
   "cell_type": "code",
   "execution_count": 115,
   "metadata": {},
   "outputs": [
    {
     "name": "stdout",
     "output_type": "stream",
     "text": [
      "100\n"
     ]
    }
   ],
   "source": [
    "# También se puede usar corchetes para acceder al valor asociado a una clave, pero\n",
    "# lanzará una excepción si esa clave no existe\n",
    "print(contadores['peras'])\n",
    "# print(contadores['uvas'])  # KeyError: 'uvas'"
   ]
  },
  {
   "cell_type": "markdown",
   "metadata": {},
   "source": [
    "* El método __keys__ crea una secuencia con las claves de un diccionario."
   ]
  },
  {
   "cell_type": "code",
   "execution_count": 116,
   "metadata": {
    "collapsed": false,
    "jupyter": {
     "outputs_hidden": false
    }
   },
   "outputs": [
    {
     "data": {
      "text/plain": [
       "dict_keys(['naranjas', 'limones', 'peras'])"
      ]
     },
     "execution_count": 116,
     "metadata": {},
     "output_type": "execute_result"
    }
   ],
   "source": [
    "contadores.keys()"
   ]
  },
  {
   "cell_type": "markdown",
   "metadata": {},
   "source": [
    "* El método __items()__ devuelve una secuencia de tuplas, cada una de las cuales es una pareja clave-valor sin ningún orden definido."
   ]
  },
  {
   "cell_type": "code",
   "execution_count": 117,
   "metadata": {
    "collapsed": false,
    "jupyter": {
     "outputs_hidden": false
    }
   },
   "outputs": [
    {
     "data": {
      "text/plain": [
       "dict_items([('naranjas', 1), ('limones', 42), ('peras', 100)])"
      ]
     },
     "execution_count": 117,
     "metadata": {},
     "output_type": "execute_result"
    }
   ],
   "source": [
    "contadores.items()"
   ]
  },
  {
   "cell_type": "markdown",
   "metadata": {},
   "source": [
    "Observar:\n",
    "* Se puede utilizar un diccionario como una secuencia en un bucle for, de manera que se recorren todas las claves del diccionario. Por ejemplo:"
   ]
  },
  {
   "cell_type": "code",
   "execution_count": 118,
   "metadata": {
    "collapsed": false,
    "jupyter": {
     "outputs_hidden": false
    }
   },
   "outputs": [
    {
     "name": "stdout",
     "output_type": "stream",
     "text": [
      "1 hola\n",
      "2 42\n",
      "3 100\n"
     ]
    }
   ],
   "source": [
    "diccionario = {1: \"hola\", 2: 42, 3: 100}\n",
    "for clave in diccionario:\n",
    "      print(clave, diccionario[clave])"
   ]
  },
  {
   "cell_type": "markdown",
   "metadata": {},
   "source": [
    "* El ejemplo anterior se podría haber realizado de una manera equivalente utilizando el método items()"
   ]
  },
  {
   "cell_type": "code",
   "execution_count": 119,
   "metadata": {
    "collapsed": false,
    "jupyter": {
     "outputs_hidden": false
    }
   },
   "outputs": [
    {
     "name": "stdout",
     "output_type": "stream",
     "text": [
      "1 hola\n",
      "2 42\n",
      "3 100\n"
     ]
    }
   ],
   "source": [
    "diccionario = {1: \"hola\", 2: 42, 3: 100}\n",
    "for clave, valor in diccionario.items():\n",
    "      print(clave, valor)"
   ]
  },
  {
   "cell_type": "code",
   "execution_count": 120,
   "metadata": {},
   "outputs": [
    {
     "name": "stdout",
     "output_type": "stream",
     "text": [
      "False\n",
      "True\n"
     ]
    }
   ],
   "source": [
    "# Dos diccionarios son equivalentes si tienen las mismas claves y almacenan valores asociados equivalentes\n",
    "d1 = {\"pepe\": 1, \"juan\": [3,3]}\n",
    "d2 = {\"juan\": [3,3], \"pepe\": 1}\n",
    "\n",
    "print(d1 is d2)\n",
    "print(d1 == d2)"
   ]
  },
  {
   "cell_type": "code",
   "execution_count": 121,
   "metadata": {},
   "outputs": [],
   "source": [
    "# Las claves de un diccionario solo pueden ser tipos de datos inmutables, dado que es necesario\n",
    "# calcular su hash\n",
    "\n",
    "# d = {[1,1]: True}\n",
    "\n",
    "# ---------------------------------------------------------------------------\n",
    "# TypeError                                 Traceback (most recent call last)\n",
    "# Cell In[13], line 2\n",
    "#      1 # Las claves de un diccionario solo pueden ser tipos de datos inmutables\n",
    "# ----> 2 d = {[1,1]: True}\n",
    "# \n",
    "# TypeError: unhashable type: 'list'"
   ]
  },
  {
   "cell_type": "markdown",
   "metadata": {},
   "source": [
    "__Diccionarios por comprensión__: Al igual que las listas, se pueden generar diccionarios por comprensión."
   ]
  },
  {
   "cell_type": "code",
   "execution_count": 122,
   "metadata": {},
   "outputs": [
    {
     "name": "stdout",
     "output_type": "stream",
     "text": [
      "{'hola': 4, 'adios': 5, 'qué tal': 7, 'bienvenido': 10}\n"
     ]
    }
   ],
   "source": [
    "palabras = [\"hola\", \"adios\", \"qué tal\", \"bienvenido\"]\n",
    "d = {p:len(p) for p in palabras}\n",
    "print(d)"
   ]
  },
  {
   "cell_type": "markdown",
   "metadata": {},
   "source": [
    "### 3.4 Conjuntos <a class=\"anchor\" id=\"sec3.4\"></a>\n",
    "Un conjunto es una colección __no ordenada__ de elementos. Es similar a un diccionario pero únicamente almacenando las claves.\n",
    "\n",
    "La función `set()` crea un diccionario nuevo sin elementos."
   ]
  },
  {
   "cell_type": "code",
   "execution_count": 123,
   "metadata": {},
   "outputs": [
    {
     "name": "stdout",
     "output_type": "stream",
     "text": [
      "set()\n"
     ]
    }
   ],
   "source": [
    "s = set()\n",
    "print(s)"
   ]
  },
  {
   "cell_type": "markdown",
   "metadata": {},
   "source": [
    "También se pueden crear conjuntos con varios elementos de manera manual:"
   ]
  },
  {
   "cell_type": "code",
   "execution_count": 124,
   "metadata": {},
   "outputs": [
    {
     "name": "stdout",
     "output_type": "stream",
     "text": [
      "{1, 4, 5}\n",
      "{1, 4, 5}\n",
      "True\n",
      "{True, 'hola', (), 5}\n"
     ]
    }
   ],
   "source": [
    "s1 = {1,5,4}\n",
    "print(s1)\n",
    "s2 = {1,5,4,5,5,5}  # Los duplicados se eliminan automáticamente\n",
    "print(s2)\n",
    "print(s1 == s2)\n",
    "s3 = {\"hola\", 5, True, ()}  # Los conjuntos pueden almacenar datos heterogéneos\n",
    "print(s3)"
   ]
  },
  {
   "cell_type": "markdown",
   "metadata": {},
   "source": [
    "Se pueden crear conjunto a partir de listas y de cualquier colección (objeto recorrible)."
   ]
  },
  {
   "cell_type": "code",
   "execution_count": 125,
   "metadata": {},
   "outputs": [
    {
     "name": "stdout",
     "output_type": "stream",
     "text": [
      "{1, 2, 10, 5}\n",
      "{5, 6, 7, 8, 9, 10, 11, 12, 13, 14}\n"
     ]
    }
   ],
   "source": [
    "s1 = set([1,2,5,10])\n",
    "print(s1)\n",
    "s2 = set(range(5, 15))\n",
    "print(s2)"
   ]
  },
  {
   "cell_type": "markdown",
   "metadata": {},
   "source": [
    "Los conjuntos tienen un número de elementos (`len`) y se puede comprobar fácilmente si un elemento está en un conjunto (`in`)."
   ]
  },
  {
   "cell_type": "code",
   "execution_count": 126,
   "metadata": {},
   "outputs": [
    {
     "name": "stdout",
     "output_type": "stream",
     "text": [
      "100\n",
      "True\n",
      "False\n"
     ]
    }
   ],
   "source": [
    "s1 = set(range(100))\n",
    "print(len(s1))\n",
    "print(0 in s1)\n",
    "print(100 in s1)"
   ]
  },
  {
   "cell_type": "markdown",
   "metadata": {},
   "source": [
    "Se puede añadir elementos individuales a un conjunto con `add`, o extender con varios elementos provenientes de otro conjunto con `update`."
   ]
  },
  {
   "cell_type": "code",
   "execution_count": 127,
   "metadata": {},
   "outputs": [
    {
     "name": "stdout",
     "output_type": "stream",
     "text": [
      "{18, 1, 2, 3}\n",
      "{1, 18, 2, 3, 7, 8, 9}\n"
     ]
    }
   ],
   "source": [
    "s1 = {1,2,3}\n",
    "s1.add(18)\n",
    "print(s1)\n",
    "s1.update({9,8,7})\n",
    "print(s1)"
   ]
  },
  {
   "cell_type": "markdown",
   "metadata": {},
   "source": [
    "Los conjuntos soportan las operaciones sobre conjuntos: unión, intersección, diferencia, comprobación de subconjunto."
   ]
  },
  {
   "cell_type": "code",
   "execution_count": 128,
   "metadata": {},
   "outputs": [
    {
     "name": "stdout",
     "output_type": "stream",
     "text": [
      "{1, 2, 3}\n",
      "{2}\n",
      "{1}\n",
      "True\n",
      "False\n",
      "True\n",
      "True\n"
     ]
    }
   ],
   "source": [
    "s1 = {1,2}\n",
    "s2 = {2,3}\n",
    "s3 = {1}\n",
    "\n",
    "print(s1.union(s2))\n",
    "print(s1.intersection(s2))\n",
    "print(s1.difference(s2))\n",
    "\n",
    "print(s3 < s1)\n",
    "print(s2 < s1)\n",
    "print(s3 <= s1)\n",
    "print(s1 <= s1)"
   ]
  },
  {
   "cell_type": "markdown",
   "metadata": {},
   "source": [
    "Finalmente, también se pueden generar conjuntos por comprensión."
   ]
  },
  {
   "cell_type": "code",
   "execution_count": 129,
   "metadata": {},
   "outputs": [
    {
     "name": "stdout",
     "output_type": "stream",
     "text": [
      "{9724, 7293, 4862, 2431}\n"
     ]
    }
   ],
   "source": [
    "# Conjunto con los números entre el 1 y el 10000 (incluidos) que son múltiplos de 11, 17 y 13.\n",
    "s = {elem for elem in range(1,10001) if elem%11 == 0 and elem%17 == 0 and elem%13 == 0}\n",
    "print(s)"
   ]
  },
  {
   "cell_type": "markdown",
   "metadata": {},
   "source": [
    "## 4. Funciones <a class=\"anchor\" id=\"sec4\"></a>\n",
    "Una función es una secuencia de sentencias que realizan una operación y que reciben un nombre. Sus principales características son:\n",
    "\n",
    "* Cuando se define una función, se especifica el nombre y la secuencia de sentencias.\n",
    "* Una vez que se ha definido una función, se puede llamar a la función por ese nombre y reutilizarla a lo largo del progama.\n",
    "* El resultado de la función se llama valor de retorno. \n",
    "\n",
    "Para crear una función se utiliza la palabra reservada __def__ . A continuación, aparece el nombre de la función, entre paréntesis los parámetros, y finaliza con __:__. Esta línea se denomina cabecera de la función. Después de los __:__, aparece el código que se ejecuta cuando se llama a la función. Este trozo de código, se denomina cuerpo de la función y debe estar indentado. El cuerpo puede contener cualquier número de sentencias. Para devolver el valor se usa la palabra reservada __return__.\n",
    "\n",
    "Por ejemplo:"
   ]
  },
  {
   "cell_type": "code",
   "execution_count": 130,
   "metadata": {},
   "outputs": [],
   "source": [
    "# función que suma 3 números y devuelve el resultado\n",
    "def suma_tres(x, y, z):  # 3 argumentos posicionales.\n",
    "    m1 = x + y\n",
    "    m2 = m1 + z\n",
    "    return m2"
   ]
  },
  {
   "cell_type": "markdown",
   "metadata": {},
   "source": [
    "Las reglas para los nombres de las funciones son los mismos que para las variables: se pueden usar letras, números y algunos signos de puntuación, pero el primer carácter no puede ser un número. No se puede usar una palabra clave como nombre de una función, y se debería evitar también tener una variable y una función con el mismo nombre. Las funciones con paréntesis vacíos después del nombre indican que esta función no toma ningún argumento.\n",
    "\n",
    "La sintaxis para llamar a una función definida consiste en indicar el nombre de la función junto a una expresión entre paréntesis denominados argumentos de la función. El argumento es un valor o variable que se pasa a la función como parámetro de entrada."
   ]
  },
  {
   "cell_type": "code",
   "execution_count": 131,
   "metadata": {
    "collapsed": false,
    "jupyter": {
     "outputs_hidden": false
    }
   },
   "outputs": [
    {
     "data": {
      "text/plain": [
       "6"
      ]
     },
     "execution_count": 131,
     "metadata": {},
     "output_type": "execute_result"
    }
   ],
   "source": [
    "# invocación de la función\n",
    "r = suma_tres(1, 2, 3)\n",
    "r"
   ]
  },
  {
   "cell_type": "markdown",
   "metadata": {},
   "source": [
    "Algunas características:\n",
    "\n",
    "* La definición de una función debe ser ejecutada antes de que la función se llame por primera vez, y no generan ninguna salida. Sin embargo, las sentencias dentro de cada función son ejecutadas solamente cuando se llama a esa función. \n",
    "* En las funciones, no se especifica el tipo de parámetro ni lo que se retorna.\n",
    "* Las definiciones de funciones no alteran el flujo de la ejecución de un programa debido a que las sentencias dentro de una función no son ejecutadas.  Sin embargo, una llamada a una función es como un desvío en el flujo de la ejecución. En vez de pasar a la siguiente sentencia, el flujo salta al cuerpo de la función, ejecuta todas las sentencias que hay allí, y después vuelve al punto donde lo dejó.\n",
    "* Las funciones que disponen de argumentos son asignados a variables llamadas parámetros. Se puede usar cualquier tipo de expresión como argumento, la cual será evaluada antes de que la función sea llamada. El nombre de la variable que se pasa como argumento no tiene nada que ver con el nombre del parámetro, de manera que dentro de la función recibirá el nombre del parámetro. "
   ]
  },
  {
   "cell_type": "code",
   "execution_count": 132,
   "metadata": {
    "collapsed": false,
    "jupyter": {
     "outputs_hidden": false
    }
   },
   "outputs": [
    {
     "name": "stdout",
     "output_type": "stream",
     "text": [
      "17\n"
     ]
    }
   ],
   "source": [
    "def sumados(a, b):\n",
    "    suma = a + b\n",
    "    return suma\n",
    "    \n",
    "c = 5\n",
    "x = sumados(c, c + 7)\n",
    "print(x)"
   ]
  },
  {
   "cell_type": "markdown",
   "metadata": {},
   "source": [
    "\n",
    "* Cuando se definen los argumentos de una función, éstos pueden tener valores por defectos. Por ejemplo:"
   ]
  },
  {
   "cell_type": "code",
   "execution_count": 133,
   "metadata": {
    "collapsed": false,
    "jupyter": {
     "outputs_hidden": false
    }
   },
   "outputs": [
    {
     "name": "stdout",
     "output_type": "stream",
     "text": [
      "3\n"
     ]
    }
   ],
   "source": [
    "def ejemplo(a=3):\n",
    "    print(a)\n",
    "    \n",
    "ejemplo()"
   ]
  },
  {
   "cell_type": "markdown",
   "metadata": {},
   "source": [
    "* Una vez que se ha definido una función puede usarse dentro de otra, facilitando de esta manera la descomposición de un problema, y resolverlo mediante una combinación de llamadas a funciones. Por ejemplo:"
   ]
  },
  {
   "cell_type": "code",
   "execution_count": 134,
   "metadata": {
    "collapsed": false,
    "jupyter": {
     "outputs_hidden": false
    }
   },
   "outputs": [
    {
     "data": {
      "text/plain": [
       "12"
      ]
     },
     "execution_count": 134,
     "metadata": {},
     "output_type": "execute_result"
    }
   ],
   "source": [
    "def ejemplo1(a, b):\n",
    "    return a + b\n",
    "\n",
    "def ejemplo2(a, b, c):\n",
    "    return c + ejemplo1(a, b)\n",
    "    \n",
    "ejemplo2(3, 4, 5)"
   ]
  },
  {
   "cell_type": "markdown",
   "metadata": {},
   "source": [
    "Hay dos tipos de funciones:\n",
    " * Aquellas que producen resultados, y se querrá hacer algo con el mismo como asignárselo a una variable."
   ]
  },
  {
   "cell_type": "code",
   "execution_count": 135,
   "metadata": {
    "collapsed": false,
    "jupyter": {
     "outputs_hidden": false
    }
   },
   "outputs": [
    {
     "name": "stdout",
     "output_type": "stream",
     "text": [
      "12\n"
     ]
    }
   ],
   "source": [
    "def ejemplo1(a):\n",
    "    return 3*a\n",
    "    \n",
    "b = ejemplo1(4)\n",
    "print(b)"
   ]
  },
  {
   "cell_type": "markdown",
   "metadata": {},
   "source": [
    "   * Aquellas que realizan alguna acción pero no devuelven un valor pero pueden mostrar algo por pantalla. Si se asigna \n",
    " el resultado a una variable, se obtiene el valor None."
   ]
  },
  {
   "cell_type": "code",
   "execution_count": 136,
   "metadata": {
    "collapsed": false,
    "jupyter": {
     "outputs_hidden": false
    }
   },
   "outputs": [
    {
     "name": "stdout",
     "output_type": "stream",
     "text": [
      "12\n",
      "None\n"
     ]
    }
   ],
   "source": [
    "def ejemplo1(a):\n",
    "    print(3*a)\n",
    "    \n",
    "b = ejemplo1(4)\n",
    "print(b)"
   ]
  },
  {
   "cell_type": "markdown",
   "metadata": {},
   "source": [
    "Python proporciona un número importante de funciones internas, que pueden ser usadas sin necesidad de tener que definirlas previamente tales como:\n",
    "* Las funciones __max__ y __min__ dan respectivamente el valor mayor y menor de una lista.\n",
    "* La función __len__ devuelve cuántos elementos hay en su argumento. Si el argumento es una cadena devuelve el número de caracteres que hay en la cadena.\n",
    "* Funciones que permiten convertir valores de un tipo a otro: __int()__, __float()__, y __str()__"
   ]
  },
  {
   "cell_type": "code",
   "execution_count": 137,
   "metadata": {
    "collapsed": false,
    "jupyter": {
     "outputs_hidden": false
    }
   },
   "outputs": [
    {
     "data": {
      "text/plain": [
       "32"
      ]
     },
     "execution_count": 137,
     "metadata": {},
     "output_type": "execute_result"
    }
   ],
   "source": [
    "int(\"32\")"
   ]
  },
  {
   "cell_type": "code",
   "execution_count": 138,
   "metadata": {
    "collapsed": false,
    "jupyter": {
     "outputs_hidden": false
    }
   },
   "outputs": [
    {
     "data": {
      "text/plain": [
       "3"
      ]
     },
     "execution_count": 138,
     "metadata": {},
     "output_type": "execute_result"
    }
   ],
   "source": [
    "int(3.99999)"
   ]
  },
  {
   "cell_type": "code",
   "execution_count": 139,
   "metadata": {
    "collapsed": false,
    "jupyter": {
     "outputs_hidden": false
    }
   },
   "outputs": [
    {
     "data": {
      "text/plain": [
       "32.0"
      ]
     },
     "execution_count": 139,
     "metadata": {},
     "output_type": "execute_result"
    }
   ],
   "source": [
    "float(32)"
   ]
  },
  {
   "cell_type": "code",
   "execution_count": 140,
   "metadata": {
    "collapsed": false,
    "jupyter": {
     "outputs_hidden": false
    }
   },
   "outputs": [
    {
     "data": {
      "text/plain": [
       "'3.14159'"
      ]
     },
     "execution_count": 140,
     "metadata": {},
     "output_type": "execute_result"
    }
   ],
   "source": [
    "str(3.14159)"
   ]
  },
  {
   "cell_type": "markdown",
   "metadata": {},
   "source": [
    "__Tipos de argumentos de las funciones__"
   ]
  },
  {
   "cell_type": "markdown",
   "metadata": {},
   "source": [
    "Las funciones tienen 4 tipos de argumentos:\n",
    "\n",
    "* posicionales\n",
    "* por clave\n",
    "* tupla de argumentos posicionales (*args)\n",
    "* diccionario de argumentos accedidos por clave (**kwargs)\n",
    "\n",
    "Usamos *args para representar una tupla arbitraria de argumentos agrupados. No es necesario que el nombre sea args:\n"
   ]
  },
  {
   "cell_type": "markdown",
   "metadata": {},
   "source": [
    "Los __argumentos posicionales__ se usan para referenciar el argumento de acuerdo a la posición en la lista de argumentos"
   ]
  },
  {
   "cell_type": "code",
   "execution_count": 141,
   "metadata": {
    "collapsed": false,
    "jupyter": {
     "outputs_hidden": false
    }
   },
   "outputs": [
    {
     "data": {
      "text/plain": [
       "11"
      ]
     },
     "execution_count": 141,
     "metadata": {},
     "output_type": "execute_result"
    }
   ],
   "source": [
    "def suma_tres(x, y, z):                   \n",
    "    m1 = x + y\n",
    "    m2 = m1 + z\n",
    "    return m2\n",
    "\n",
    "suma_tres(1, 2, 8)"
   ]
  },
  {
   "cell_type": "markdown",
   "metadata": {},
   "source": [
    "Los __argumentos por clave__ se usan para indicar valores por defecto y siempre se sitúan después de los argumentos posicionales."
   ]
  },
  {
   "cell_type": "code",
   "execution_count": 142,
   "metadata": {
    "collapsed": false,
    "jupyter": {
     "outputs_hidden": false
    }
   },
   "outputs": [
    {
     "data": {
      "text/plain": [
       "(5, 6)"
      ]
     },
     "execution_count": 142,
     "metadata": {},
     "output_type": "execute_result"
    }
   ],
   "source": [
    "def suma_varios(x, y, z1=0, z2=0):\n",
    "    m = x + y + z1 + z2\n",
    "    return m\n",
    "    \n",
    "resultado1 = suma_varios(2, 3)\n",
    "resultado2 = suma_varios(2, 3, z2=1)\n",
    "resultado1, resultado2"
   ]
  },
  {
   "cell_type": "markdown",
   "metadata": {},
   "source": [
    "Usamos __*args__ para representar una tupla arbitraria de argumentos agrupados. No es necesario que el nombre sea args:"
   ]
  },
  {
   "cell_type": "code",
   "execution_count": 143,
   "metadata": {
    "collapsed": false,
    "jupyter": {
     "outputs_hidden": false
    }
   },
   "outputs": [
    {
     "name": "stdout",
     "output_type": "stream",
     "text": [
      "x: 1\n",
      "y: 2\n",
      "otros: (3, 4, 5, 6, 7, 8, 9)\n"
     ]
    }
   ],
   "source": [
    "def suma_varios(x, y, *args):\n",
    "    print( \"x:\", x )\n",
    "    print( \"y:\", y )\n",
    "    print(\"otros:\", args)\n",
    "\n",
    "suma_varios(1,2,3,4,5,6,7,8,9)"
   ]
  },
  {
   "cell_type": "markdown",
   "metadata": {},
   "source": [
    "Se pueden definir los argumentos agrupados después de los argumentos posicionales y por clave. Usamos __**kwargs__ para representar una lista arbitraria de argumentos agrupados representada como un diccionario. Como en el caso anterior, no es necesario que el nombre sea kwargs:"
   ]
  },
  {
   "cell_type": "code",
   "execution_count": 144,
   "metadata": {
    "collapsed": false,
    "jupyter": {
     "outputs_hidden": false
    }
   },
   "outputs": [
    {
     "name": "stdout",
     "output_type": "stream",
     "text": [
      "x: 1\n",
      "y: 2\n",
      "otros: (3, 4, 5, 6, 7, 8, 9)\n",
      "mas: {'cien': 100, 'mil': 1000}\n"
     ]
    }
   ],
   "source": [
    "def suma_varios(x, y, *args, **kwargs):\n",
    "    print( \"x:\", x )\n",
    "    print( \"y:\", y )\n",
    "    print(\"otros:\", args)\n",
    "    print(\"mas:\", kwargs)\n",
    "    \n",
    "suma_varios(1,2,3,4,5,6,7,8,9, cien=100, mil=1000)"
   ]
  },
  {
   "cell_type": "markdown",
   "metadata": {},
   "source": [
    "__Paso de parámetros__"
   ]
  },
  {
   "cell_type": "markdown",
   "metadata": {},
   "source": [
    "En Python el paso de argumentos a una función se hace por referencia, de manera que las modificaciones que se hagan sobre los argumentos se mantienen después de la llamada y ejecución de la función"
   ]
  },
  {
   "cell_type": "code",
   "execution_count": 145,
   "metadata": {
    "collapsed": false,
    "jupyter": {
     "outputs_hidden": false
    }
   },
   "outputs": [
    {
     "data": {
      "text/plain": [
       "[1, 2, 4, 9]"
      ]
     },
     "execution_count": 145,
     "metadata": {},
     "output_type": "execute_result"
    }
   ],
   "source": [
    "def extiende(lista, num):\n",
    "    lista.append(num)\n",
    "\n",
    "a = [1, 2, 4]\n",
    "extiende(a, 9)\n",
    "a"
   ]
  },
  {
   "cell_type": "markdown",
   "metadata": {},
   "source": [
    "__Funciones como argumentos de otras funciones__"
   ]
  },
  {
   "cell_type": "markdown",
   "metadata": {},
   "source": [
    "En Python es posible pasar como argumento el nombre de la función y usarla. Supongamos que tenemos una lista de ciudades que necesitamos 'limpiar' o 'formatear'."
   ]
  },
  {
   "cell_type": "code",
   "execution_count": 146,
   "metadata": {},
   "outputs": [],
   "source": [
    "ciudades = ['   Madrid', ' BARcelona', 'SeVILLA  ' ]"
   ]
  },
  {
   "cell_type": "markdown",
   "metadata": {},
   "source": [
    "Para dar un formato uniforme a esta lista antes de realizar otras tareas de análisis, es necesario transformarla eliminado espacios en blanco y transformando cada nombre a tipo _título_. "
   ]
  },
  {
   "cell_type": "code",
   "execution_count": 147,
   "metadata": {
    "collapsed": false,
    "jupyter": {
     "outputs_hidden": false
    }
   },
   "outputs": [
    {
     "data": {
      "text/plain": [
       "['Madrid', 'Barcelona', 'Sevilla']"
      ]
     },
     "execution_count": 147,
     "metadata": {},
     "output_type": "execute_result"
    }
   ],
   "source": [
    "def formatear(lista):\n",
    "    return [ciudad.strip().title() for ciudad in lista]\n",
    "\n",
    "formatear(ciudades)"
   ]
  },
  {
   "cell_type": "markdown",
   "metadata": {},
   "source": [
    "Una alternativa más flexible consiste en crear una lista de operaciones a realizar y posteriormente aplicarla a la lista de ciudades:"
   ]
  },
  {
   "cell_type": "code",
   "execution_count": 148,
   "metadata": {
    "collapsed": false,
    "jupyter": {
     "outputs_hidden": false
    }
   },
   "outputs": [
    {
     "data": {
      "text/plain": [
       "['MADRID', 'BARCELONA', 'SEVILLA']"
      ]
     },
     "execution_count": 148,
     "metadata": {},
     "output_type": "execute_result"
    }
   ],
   "source": [
    "def transforma_nombre(ciudad):\n",
    "    return ciudad.strip().upper()\n",
    "\n",
    "def formatear(lista, f):\n",
    "    return [f(ciudad) for ciudad in lista]\n",
    "\n",
    "formatear(ciudades, transforma_nombre)"
   ]
  },
  {
   "cell_type": "markdown",
   "metadata": {},
   "source": [
    "El uso de funciones como argumentos de otras funciones es una característica de los lenguajes funcionales. La función __map__ de los lenguajes funcionales también está accesible en Python. Esta función aplica una función a una colección de objetos.En el siguiente ejemplo, la función map aplica la función strip a cada una de las ciudades en la lista de ciudades."
   ]
  },
  {
   "cell_type": "code",
   "execution_count": 149,
   "metadata": {
    "collapsed": false,
    "jupyter": {
     "outputs_hidden": false
    }
   },
   "outputs": [
    {
     "data": {
      "text/plain": [
       "['Madrid', 'BARcelona', 'SeVILLA']"
      ]
     },
     "execution_count": 149,
     "metadata": {},
     "output_type": "execute_result"
    }
   ],
   "source": [
    "m1 = map(str.strip, ciudades)\n",
    "list(m1)"
   ]
  },
  {
   "cell_type": "code",
   "execution_count": 150,
   "metadata": {
    "collapsed": false,
    "jupyter": {
     "outputs_hidden": false
    }
   },
   "outputs": [
    {
     "data": {
      "text/plain": [
       "['Madrid', 'Barcelona', 'Sevilla']"
      ]
     },
     "execution_count": 150,
     "metadata": {},
     "output_type": "execute_result"
    }
   ],
   "source": [
    "m2 = map(str.title, map(str.strip , ciudades))\n",
    "list(m2)"
   ]
  },
  {
   "cell_type": "code",
   "execution_count": 151,
   "metadata": {},
   "outputs": [
    {
     "data": {
      "text/plain": [
       "<map at 0x7b6bcb5cdd50>"
      ]
     },
     "execution_count": 151,
     "metadata": {},
     "output_type": "execute_result"
    }
   ],
   "source": [
    "# Ojo que lo que devuelve map() es un objeto iterable pero no directamente una lista\n",
    "map(str.strip, ciudades)"
   ]
  },
  {
   "cell_type": "markdown",
   "metadata": {},
   "source": [
    "__Funciones anónimas__"
   ]
  },
  {
   "cell_type": "markdown",
   "metadata": {},
   "source": [
    "Las funciones anónimas son aquellas que no tiene nombre y se refieren a una única instrucción. Se declaran con la palabra reservada __lambda__, y en general son funciones cortas dado que están sintácticamente restringidas a una sola expresión."
   ]
  },
  {
   "cell_type": "code",
   "execution_count": 152,
   "metadata": {},
   "outputs": [
    {
     "data": {
      "text/plain": [
       "(<function __main__.<lambda>(x)>, 8)"
      ]
     },
     "execution_count": 152,
     "metadata": {},
     "output_type": "execute_result"
    }
   ],
   "source": [
    "# función normal\n",
    "def producto(a):  \n",
    "    return a * 2\n",
    "\n",
    "# la función anónima equivalente:\n",
    "f = lambda x: x * 2\n",
    "f, f(4)"
   ]
  },
  {
   "cell_type": "markdown",
   "metadata": {},
   "source": [
    "Las __funciones lambda__ se utilizan mucho en análisis de datos ya que es muy usual transformar datos mediante funciones que tienen a otras funciones en sus argumentos. También se usan __funciones lambda__ en lugar de escribir funciones normales para hacer el código más claro y más corto.\n",
    "\n",
    "En el siguiente ejemplo, la función doble recibe como datos de entrada una lista de elementos y una función f. El valor devuelto por doble es una lista de elementos que son resultado de aplicar la función f a cada uno de los elementos en m."
   ]
  },
  {
   "cell_type": "code",
   "execution_count": 153,
   "metadata": {
    "collapsed": false,
    "jupyter": {
     "outputs_hidden": false
    }
   },
   "outputs": [
    {
     "data": {
      "text/plain": [
       "[2, 4, 6, 8]"
      ]
     },
     "execution_count": 153,
     "metadata": {},
     "output_type": "execute_result"
    }
   ],
   "source": [
    "s = [1, 2, 3, 4]\n",
    "def my_map(lista, f):\n",
    "    \"\"\"  Devuelvo una nueva lista definida por comprensión \"\"\"\n",
    "    return [f(x)  for x in lista]\n",
    "\n",
    "my_map(s, producto)"
   ]
  },
  {
   "cell_type": "markdown",
   "metadata": {},
   "source": [
    "Pero el mismo efecto lo conseguimos mediante una función anónima, evitando así la definición de la función __producto__:"
   ]
  },
  {
   "cell_type": "code",
   "execution_count": 154,
   "metadata": {
    "collapsed": false,
    "jupyter": {
     "outputs_hidden": false
    }
   },
   "outputs": [
    {
     "data": {
      "text/plain": [
       "[2, 4, 6, 8]"
      ]
     },
     "execution_count": 154,
     "metadata": {},
     "output_type": "execute_result"
    }
   ],
   "source": [
    "my_map(s, lambda x: x * 2)"
   ]
  },
  {
   "cell_type": "markdown",
   "metadata": {},
   "source": [
    "## 5. Importación de módulos <a class=\"anchor\" id=\"sec5\"></a>\n",
    "\n",
    "Python dispone de una amplia variedad de módulos y librerias. Los módulos son programas que amplían las funciones y clases de Python para realizar tareas específicas. Lo habitual cuando se desarrollan aplicaciones es que los programas se vuelvan muy largos. En estos casos conviene organizar el código en distintos archivos dependiendo de su funcionalidad. Con esto conseguimos que el mantenimiento sea más fácil y poder reutilizar código (usar una función en varias aplicaciones sin necesidad de copiarla varias veces). Estos archivos se llaman módulos y tienen extensión __py__. Contienen: definición de funciones, datos, definición de clases, etc\n",
    "\n",
    "En https://docs.python.org/3/py-modindex.html se puede encontar el índice de módulos de Python.\n",
    "\n",
    "\n",
    "Para poder utilizarlas, hay que importarlas previamente, lo cual se puede hacer de varias formas:\n",
    "* Importar todo el módulo mediante la palabra reservada __import__, de manera que para usar un elemento hay que usar el nombre del módulo, seguido de un punto (.) y el nombre del elemento que se desee obtener.\n",
    "\n",
    "* Importar solo algunos elementos del módulo mediante la estructura __from__ nombre_modulo __import__ lista_elementos, de manera que los elementos importados se usan directamente por su nombre.\n",
    "\n",
    "* Importar todo el módulo mediante la palabra reservada __import__ y definir un alias mediante la palabra reservada __as__ de manera que para usar un elemento hay que usar el nombre del módulo, seguido de un punto (.) y el nombre del elemento que se desee obtener.\n",
    "\n",
    "Por ejemplo, considerar el módulo random que proporciona funciones que generan números pseudoaleatorios. Se va a usar la función random devuelve un número flotante aleatorio entre 0.0 y 1.0 (incluyendo 0.0, pero no 1.0). Cada vez que se llama a random, se obtiene el número siguiente de una larga serie."
   ]
  },
  {
   "cell_type": "code",
   "execution_count": 155,
   "metadata": {
    "collapsed": false,
    "jupyter": {
     "outputs_hidden": false
    }
   },
   "outputs": [
    {
     "name": "stdout",
     "output_type": "stream",
     "text": [
      "0.23578213711785212\n",
      "0.8554504507870428\n",
      "0.9916874313604427\n",
      "0.8540633749742629\n"
     ]
    }
   ],
   "source": [
    "import random\n",
    "\n",
    "for i in range(4):\n",
    "    x = random.random ()\n",
    "    print(x)"
   ]
  },
  {
   "cell_type": "markdown",
   "metadata": {},
   "source": [
    "En el siguiente código se usa el mismo ejemplo, pero se define un alias para el módulo random"
   ]
  },
  {
   "cell_type": "code",
   "execution_count": 156,
   "metadata": {
    "collapsed": false,
    "jupyter": {
     "outputs_hidden": false
    }
   },
   "outputs": [
    {
     "name": "stdout",
     "output_type": "stream",
     "text": [
      "0.43044177333722156\n",
      "0.2916227511476198\n",
      "0.40625358366453856\n",
      "0.4638730712282739\n"
     ]
    }
   ],
   "source": [
    "import random as rd\n",
    "\n",
    "for i in range (4):\n",
    "    x = rd.random()\n",
    "    print(x)"
   ]
  },
  {
   "cell_type": "markdown",
   "metadata": {},
   "source": [
    "Ahora se va a usar la función randint que toma los parámetros inferior y superior, y devuelve un entero entre inferior y superior (incluyendo ambos extremos)."
   ]
  },
  {
   "cell_type": "code",
   "execution_count": 157,
   "metadata": {
    "collapsed": false,
    "jupyter": {
     "outputs_hidden": false
    }
   },
   "outputs": [
    {
     "name": "stdout",
     "output_type": "stream",
     "text": [
      "1\n",
      "1\n",
      "2\n",
      "4\n"
     ]
    }
   ],
   "source": [
    "from random import randint\n",
    "\n",
    "for i in range(4):\n",
    "    x = randint (1,10)\n",
    "    print(x)"
   ]
  },
  {
   "cell_type": "markdown",
   "metadata": {},
   "source": [
    "Para conocer las operaciones disponibles de un módulo se puede usar el comando __dir__"
   ]
  },
  {
   "cell_type": "code",
   "execution_count": 158,
   "metadata": {
    "collapsed": false,
    "jupyter": {
     "outputs_hidden": false
    }
   },
   "outputs": [
    {
     "data": {
      "text/plain": [
       "['__doc__',\n",
       " '__loader__',\n",
       " '__name__',\n",
       " '__package__',\n",
       " '__spec__',\n",
       " 'acos',\n",
       " 'acosh',\n",
       " 'asin',\n",
       " 'asinh',\n",
       " 'atan',\n",
       " 'atan2',\n",
       " 'atanh',\n",
       " 'cbrt',\n",
       " 'ceil',\n",
       " 'comb',\n",
       " 'copysign',\n",
       " 'cos',\n",
       " 'cosh',\n",
       " 'degrees',\n",
       " 'dist',\n",
       " 'e',\n",
       " 'erf',\n",
       " 'erfc',\n",
       " 'exp',\n",
       " 'exp2',\n",
       " 'expm1',\n",
       " 'fabs',\n",
       " 'factorial',\n",
       " 'floor',\n",
       " 'fmod',\n",
       " 'frexp',\n",
       " 'fsum',\n",
       " 'gamma',\n",
       " 'gcd',\n",
       " 'hypot',\n",
       " 'inf',\n",
       " 'isclose',\n",
       " 'isfinite',\n",
       " 'isinf',\n",
       " 'isnan',\n",
       " 'isqrt',\n",
       " 'lcm',\n",
       " 'ldexp',\n",
       " 'lgamma',\n",
       " 'log',\n",
       " 'log10',\n",
       " 'log1p',\n",
       " 'log2',\n",
       " 'modf',\n",
       " 'nan',\n",
       " 'nextafter',\n",
       " 'perm',\n",
       " 'pi',\n",
       " 'pow',\n",
       " 'prod',\n",
       " 'radians',\n",
       " 'remainder',\n",
       " 'sin',\n",
       " 'sinh',\n",
       " 'sqrt',\n",
       " 'tan',\n",
       " 'tanh',\n",
       " 'tau',\n",
       " 'trunc',\n",
       " 'ulp']"
      ]
     },
     "execution_count": 158,
     "metadata": {},
     "output_type": "execute_result"
    }
   ],
   "source": [
    "import math\n",
    "dir(math)"
   ]
  },
  {
   "cell_type": "markdown",
   "metadata": {},
   "source": [
    "Y para saber los módulos que se tienen instalados,y que por tanto se pueden importar, se puede hacer de la siguiente manera:"
   ]
  },
  {
   "cell_type": "markdown",
   "metadata": {},
   "source": [
    "## 6. Ficheros <a class=\"anchor\" id=\"sec6\"></a>"
   ]
  },
  {
   "cell_type": "markdown",
   "metadata": {},
   "source": [
    "__Apertura en modo lectura__"
   ]
  },
  {
   "cell_type": "markdown",
   "metadata": {},
   "source": [
    "En Python, para abrir  un fichero usaremos la función __open__, que recibe el nombre del archivo a abrir. Por defecto, si no indicamos nada, el fichero se abre en modo lectura."
   ]
  },
  {
   "cell_type": "markdown",
   "metadata": {},
   "source": [
    "Vamos a considerar el archivo cuna.txt que se encuentra en una carpeta denominada datos.La función __open__ abrirá el fichero con el nombre indicado, en este caso el fichero cuna.txt. Si no tiene éxito, se lanzará una excepción. Si se ha podido abrir el fichero correctamente, la variable fichero nos permitirá manipularlo."
   ]
  },
  {
   "cell_type": "code",
   "execution_count": 159,
   "metadata": {
    "collapsed": false,
    "jupyter": {
     "outputs_hidden": false
    }
   },
   "outputs": [],
   "source": [
    "fichero = open(\"cuna.txt\", 'r', encoding='utf8')\n",
    "...\n",
    "fichero.close()"
   ]
  },
  {
   "cell_type": "markdown",
   "metadata": {},
   "source": [
    "La operación más sencilla a realizar sobre un archivo es leer su contenido. Para procesarlo línea por línea, es posible hacerlo de la siguiente forma:"
   ]
  },
  {
   "cell_type": "code",
   "execution_count": 160,
   "metadata": {
    "collapsed": false,
    "jupyter": {
     "outputs_hidden": false
    }
   },
   "outputs": [
    {
     "name": "stdout",
     "output_type": "stream",
     "text": [
      "Ya te vemos dormida. \n",
      "\n",
      "Tu barca es de madera por la orilla. \n",
      "\n",
      "Blanca princesa de nunca. \n",
      "\n",
      "Duerme por la noche oscura.\n",
      "\n",
      "Cuerpo y tierra de nieve. \n",
      "\n",
      "Duerme por el alba, duerme.\n",
      "\n",
      "Ya te alejas dormida. \n"
     ]
    }
   ],
   "source": [
    "fichero= open(\"cuna.txt\", 'r', encoding='utf8')\n",
    "for linea in fichero:\n",
    "    print(linea)\n",
    "fichero.close()"
   ]
  },
  {
   "cell_type": "markdown",
   "metadata": {},
   "source": [
    "Es posible, además, obtener todas las líneas del archivo utilizando una sola llamada a función __readlines__. "
   ]
  },
  {
   "cell_type": "code",
   "execution_count": 161,
   "metadata": {
    "collapsed": false,
    "jupyter": {
     "outputs_hidden": false
    }
   },
   "outputs": [
    {
     "name": "stdout",
     "output_type": "stream",
     "text": [
      "['Ya te vemos dormida. \\n', 'Tu barca es de madera por la orilla. \\n', 'Blanca princesa de nunca. \\n', 'Duerme por la noche oscura.\\n', 'Cuerpo y tierra de nieve. \\n', 'Duerme por el alba, duerme.\\n', 'Ya te alejas dormida. ']\n"
     ]
    }
   ],
   "source": [
    "fichero = open(\"cuna.txt\", 'r', encoding='utf8')\n",
    "lineas = fichero.readlines()\n",
    "print(lineas)\n",
    "fichero.close()"
   ]
  },
  {
   "cell_type": "markdown",
   "metadata": {},
   "source": [
    "En este caso, la variable líneas tendrá una lista de cadenas con todas las líneas del fichero.Es importante tener en cuenta que cuando se utilizan funciones como __archivo.readlines()__, se está cargando en memoria el fichero completo. Siempre que una instrucción cargue un fichero completo debe tenerse cuidado de utilizarla sólo con ficheros pequeños, ya que de otro modo podría agotarse la memoria.\n",
    "\n",
    "Es posible eliminar los saltos de línea"
   ]
  },
  {
   "cell_type": "code",
   "execution_count": 162,
   "metadata": {
    "collapsed": false,
    "jupyter": {
     "outputs_hidden": false
    }
   },
   "outputs": [
    {
     "data": {
      "text/plain": [
       "'Ya te vemos dormida.'"
      ]
     },
     "execution_count": 162,
     "metadata": {},
     "output_type": "execute_result"
    }
   ],
   "source": [
    "lineas[0].rstrip() "
   ]
  },
  {
   "cell_type": "markdown",
   "metadata": {},
   "source": [
    "__Apertura en modo escritura (w)__ "
   ]
  },
  {
   "cell_type": "markdown",
   "metadata": {},
   "source": [
    "Si queremos abrir un fichero en modo escritura, hay que indicar una w como segundo parámetro de la función __open__. En caso de que no exista el fichero se crea, y si existe, se pierde la información que hubiera."
   ]
  },
  {
   "cell_type": "code",
   "execution_count": 163,
   "metadata": {},
   "outputs": [],
   "source": [
    "arc_write = open('nuevo.txt', 'w', encoding='utf8')\n",
    "for i, line in enumerate(lineas):\n",
    "    if i%2 == 0:    \n",
    "        arc_write.write(str(i) + ' ' + line)\n",
    "arc_write.close()        "
   ]
  },
  {
   "cell_type": "markdown",
   "metadata": {},
   "source": [
    "Al terminar de trabajar con un fichero, se debe cerrar ya que lo que se haya escrito no se guardará realmente hasta no cerrar el fichero. Para ello se usa __close__"
   ]
  },
  {
   "cell_type": "markdown",
   "metadata": {},
   "source": [
    "Ahora se puede abrir el archivo escrito y comprobar el contenido del mismo"
   ]
  },
  {
   "cell_type": "code",
   "execution_count": 164,
   "metadata": {
    "collapsed": false,
    "jupyter": {
     "outputs_hidden": false
    }
   },
   "outputs": [
    {
     "data": {
      "text/plain": [
       "['0 Ya te vemos dormida. \\n',\n",
       " '2 Blanca princesa de nunca. \\n',\n",
       " '4 Cuerpo y tierra de nieve. \\n',\n",
       " '6 Ya te alejas dormida. ']"
      ]
     },
     "execution_count": 164,
     "metadata": {},
     "output_type": "execute_result"
    }
   ],
   "source": [
    "with open('nuevo.txt', 'r', encoding='utf8') as fich:\n",
    "    lineas = fich.readlines()\n",
    "lineas"
   ]
  },
  {
   "cell_type": "markdown",
   "metadata": {},
   "source": [
    "Para evitar olvidar el cierre del fichero, con el peligro de la pérdida de datos, es mucho mejor utilizar la construcción `with` para que Python cierre automáticamente el fichero aunque se lance una excepción en el código:"
   ]
  },
  {
   "cell_type": "code",
   "execution_count": 165,
   "metadata": {},
   "outputs": [],
   "source": [
    "with open('fichero_with.txt', 'w', encoding='utf8') as fich:\n",
    "    fich.write('hola\\n')\n",
    "    fich.write('¿qué tal?\\n')\n",
    "\n",
    "# No hace falta cerrar el fichero explícitamente, se cierra automáticamente al salir del bloque 'with'"
   ]
  },
  {
   "cell_type": "markdown",
   "metadata": {},
   "source": [
    "__Apertura en modo escritura posicionándose al final del mismo (a)__"
   ]
  },
  {
   "cell_type": "markdown",
   "metadata": {},
   "source": [
    "En este caso se crea el fichero, si no existe, pero en caso de que exista se posiciona al final, manteniendo el contenido original."
   ]
  },
  {
   "cell_type": "code",
   "execution_count": 166,
   "metadata": {
    "collapsed": false,
    "jupyter": {
     "outputs_hidden": false
    }
   },
   "outputs": [],
   "source": [
    "with open('nuevo.txt', 'a', encoding='utf8') as fich:\n",
    "    fich.write('\\nLínea final')"
   ]
  },
  {
   "cell_type": "code",
   "execution_count": 167,
   "metadata": {
    "collapsed": false,
    "jupyter": {
     "outputs_hidden": false
    }
   },
   "outputs": [
    {
     "data": {
      "text/plain": [
       "['0 Ya te vemos dormida. \\n',\n",
       " '2 Blanca princesa de nunca. \\n',\n",
       " '4 Cuerpo y tierra de nieve. \\n',\n",
       " '6 Ya te alejas dormida. \\n',\n",
       " 'Línea final']"
      ]
     },
     "execution_count": 167,
     "metadata": {},
     "output_type": "execute_result"
    }
   ],
   "source": [
    "with open('nuevo.txt', 'r', encoding='utf8') as fich:\n",
    "    lineas = fich.readlines()\n",
    "lineas"
   ]
  },
  {
   "cell_type": "markdown",
   "metadata": {},
   "source": [
    "## 7. Clases <a class=\"anchor\" id=\"sec7\"></a>\n",
    "\n",
    "Las clases de definen con la palabra reservada `class`, y pueden heredar de otras clases que se pasan entre paréntesis. \n",
    "\n",
    "Todos los métodos definidos dentro de una clase admiten un primer parámetro `self` que es la referencia al objeto (como el `this` de Java). \n",
    "\n",
    "Para acceder a los atributos del objeto se debe utilizar la sintaxis `self.atributo`. Además, no es posible definir atributos/métodos públicos o privados. **Todo es público.**\n",
    "\n",
    "Uno de los métodos más importante de una clase es el constructor, que se define como:\n",
    "```\n",
    "def __init__(self, valor1, valor2):\n",
    "  # Aquí se inicializa todo\n",
    "  self.atributo1 = valor1\n",
    "  self.atributo2 = valor2\n",
    "```\n"
   ]
  },
  {
   "cell_type": "code",
   "execution_count": 168,
   "metadata": {},
   "outputs": [
    {
     "name": "stdout",
     "output_type": "stream",
     "text": [
      "Ando\n",
      "Ando\n",
      "Ando\n",
      "Ando\n",
      "\n",
      "True\n",
      "True\n",
      "False\n",
      "False\n",
      "False\n",
      "False\n",
      "\n",
      "Toby dice: 'Guau guau'\n",
      "Laika dice: 'Guau guau'\n",
      "Chispi dice: 'Miau miau'\n",
      "\n",
      "Toby dice: 'Guau guau'\n",
      "El animal anteriormente conocido como Laika dice: 'Guau guau'\n"
     ]
    }
   ],
   "source": [
    "class Animal(object):\n",
    "    adoptado = True # ¡OJO! Esta variable es compartida por todos los objetos\n",
    "    \n",
    "    def anda(self):\n",
    "        print(\"Ando\")\n",
    "        \n",
    "class Perro(Animal):\n",
    "    def __init__(self, nombre):\n",
    "        self.nombre = nombre\n",
    "        \n",
    "    def ladra(self):\n",
    "        print(f\"{self.nombre} dice: 'Guau guau'\")\n",
    "\n",
    "class Gato(Animal):\n",
    "    def __init__(self, nombre, peso):\n",
    "        self.nombre = nombre\n",
    "        self.peso = peso\n",
    "        \n",
    "    def maulla(self):\n",
    "        print(f\"{self.nombre} dice: 'Miau miau'\")\n",
    "                \n",
    "        \n",
    "\n",
    "# codigo que usa las clases\n",
    "a = Animal()\n",
    "p1 = Perro(\"Toby\")\n",
    "p2 = Perro(\"Laika\")\n",
    "g1 = Gato(\"Chispi\", 3.5)\n",
    "\n",
    "a.anda()\n",
    "p1.anda()\n",
    "p2.anda()\n",
    "g1.anda()\n",
    "print()\n",
    "\n",
    "print(a.adoptado)\n",
    "print(p1.adoptado)\n",
    "Animal.adoptado = False  # Esto cambia la variable 'vivo' de todos los animales!\n",
    "print(p2.adoptado)\n",
    "print(a.adoptado)\n",
    "print(p1.adoptado)\n",
    "print(g1.adoptado)\n",
    "print()\n",
    "\n",
    "p1.ladra()\n",
    "p2.ladra()\n",
    "g1.maulla()\n",
    "print()\n",
    "\n",
    "p2.nombre = \"El animal anteriormente conocido como Laika\"  # Esto solo cambia la variable del objeto 'p2'\n",
    "p1.ladra()\n",
    "p2.ladra()"
   ]
  },
  {
   "cell_type": "code",
   "execution_count": 169,
   "metadata": {},
   "outputs": [],
   "source": [
    "# Clase sin métodos ni atributos\n",
    "class Cosa(object):\n",
    "\n",
    "    def __init__(self):\n",
    "        ..."
   ]
  },
  {
   "cell_type": "code",
   "execution_count": 170,
   "metadata": {},
   "outputs": [
    {
     "name": "stdout",
     "output_type": "stream",
     "text": [
      "pepe\n"
     ]
    }
   ],
   "source": [
    "c = Cosa()\n",
    "c.nombre = 'pepe'  # Se pueden añadir atributos sobre la marcha!\n",
    "\n",
    "print(c.nombre)\n",
    "\n",
    "# print(c.saluda())\n",
    "# ---------------------------------------------------------------------------\n",
    "# AttributeError                            Traceback (most recent call last)\n",
    "# Cell In[159], line 5\n",
    "#       2 c.nombre = 'pepe'  # Se pueden añadir atributos sobre la marcha!\n",
    "#       4 print(c.nombre)\n",
    "# ----> 5 print(c.saluda())\n",
    "# \n",
    "# AttributeError: 'Cosa' object has no attribute 'saluda'"
   ]
  },
  {
   "cell_type": "markdown",
   "metadata": {},
   "source": [
    "## Excepciones <a class=\"anchor\" id=\"sec8\"></a>\n",
    "\n",
    "El manejo de excepciones en Python permite controlar errores que pueden surgir durante la ejecución de un programa sin que este falle abruptamente. Las excepciones son errores que ocurren en tiempo de ejecución y pueden ser capturadas para evitar que el programa se interrumpa. Python utiliza las palabras clave `try`, `except`, `else` y `finally` para manejar excepciones."
   ]
  },
  {
   "cell_type": "code",
   "execution_count": 171,
   "metadata": {},
   "outputs": [
    {
     "name": "stdout",
     "output_type": "stream",
     "text": [
      "No se puede dividir entre cero.\n"
     ]
    }
   ],
   "source": [
    "# Estructura básica del manejo de excepciones\n",
    "\n",
    "try:\n",
    "    # Código que puede generar una excepción\n",
    "    resultado = 10 / 0  # Esto generará un error\n",
    "except ZeroDivisionError:\n",
    "    # Código que se ejecuta si ocurre la excepción\n",
    "    print(\"No se puede dividir entre cero.\")"
   ]
  },
  {
   "cell_type": "code",
   "execution_count": 172,
   "metadata": {},
   "outputs": [
    {
     "name": "stdin",
     "output_type": "stream",
     "text": [
      "Introduce el primer número:  5\n",
      "Introduce el segundo número:  6\n"
     ]
    },
    {
     "name": "stdout",
     "output_type": "stream",
     "text": [
      "El resultado de la división es 0.8333333333333334\n"
     ]
    }
   ],
   "source": [
    "\"\"\"\n",
    "Puedes manejar diferentes tipos de excepciones o incluso capturar cualquier excepción\n",
    "con un except general. Sin embargo, es recomendable ser específico para una mejor gestión\n",
    "del error.\n",
    "\"\"\"\n",
    "\n",
    "try:\n",
    "    num1 = int(input(\"Introduce el primer número: \"))\n",
    "    num2 = int(input(\"Introduce el segundo número: \"))\n",
    "    resultado = num1 / num2\n",
    "    print(f\"El resultado de la división es {resultado}\")\n",
    "except ValueError:\n",
    "    print(\"Error: Debes introducir un número entero.\")\n",
    "except ZeroDivisionError:\n",
    "    print(\"Error: No se puede dividir entre cero.\")\n",
    "except Exception as e:  # Captura cualquier otro tipo de excepción\n",
    "    print(f\"Ocurrió un error: {e}\")"
   ]
  },
  {
   "cell_type": "code",
   "execution_count": 173,
   "metadata": {},
   "outputs": [
    {
     "name": "stdout",
     "output_type": "stream",
     "text": [
      "Error: El archivo no existe.\n",
      "Cerrando el archivo si se llegó a abrir...\n"
     ]
    }
   ],
   "source": [
    "\"\"\"\n",
    "La cláusula `else` se ejecuta si no ocurre ninguna excepción, y `finally` se ejecuta siempre, ocurra o no una excepción. \n",
    "Esto es útil para liberar recursos como archivos o conexiones de red **aunque es mucho más cómodo usar _with_*\n",
    "\"\"\"\n",
    "\n",
    "try:\n",
    "    archivo = None\n",
    "    archivo = open('archivo.txt', 'r')\n",
    "    contenido = archivo.read()\n",
    "    print(contenido)\n",
    "except FileNotFoundError:\n",
    "    print(\"Error: El archivo no existe.\")\n",
    "else:\n",
    "    print(\"El archivo se leyó correctamente.\")\n",
    "finally:\n",
    "    print(\"Cerrando el archivo si se llegó a abrir...\")\n",
    "    if archivo:\n",
    "        archivo.close()"
   ]
  },
  {
   "cell_type": "markdown",
   "metadata": {},
   "source": [
    "## 9. Pylint <a class=\"anchor\" id=\"sec9\"></a>\n",
    "\n",
    "Pylint es una herramienta de análisis estático de código diseñada para ayudar a los desarrolladores de Python a escribir un código más limpio, eficiente y libre de errores. Esta herramienta se destaca por ofrecer un análisis profundo del código, detectando no solo errores sintácticos o de estilo, sino también posibles errores lógicos, problemas de arquitectura y convenciones de codificación. Al ejecutar Pylint, se obtiene un informe detallado que clasifica los problemas en diferentes categorías, como errores (errors), advertencias (warnings) y convenciones (convention issues), permitiendo a los programadores priorizar las correcciones.\n",
    "\n",
    "El principal objetivo de Pylint es promover el cumplimiento de las normas __PEP 8__ (https://peps.python.org/pep-0008/), que es la guía de estilo oficial para Python. Estas normas cubren aspectos como la correcta indentación, el uso adecuado de espacios en blanco y los nombres de variables, entre otros. Sin embargo, Pylint no solo se limita a cuestiones de estilo, sino que también realiza una verificación lógica del código, asegurándose de que no haya variables sin usar, importaciones innecesarias o funciones mal definidas. Además, los usuarios pueden personalizar las reglas de Pylint según las necesidades de su proyecto, lo que hace que sea una herramienta flexible.\n",
    "\n",
    "Una de las características más potentes de Pylint es su capacidad para integrarse con entornos de desarrollo integrados (IDE) como VSCode, PyCharm y otros editores populares. Esto permite a los desarrolladores recibir comentarios inmediatos sobre la calidad de su código mientras lo escriben, sin necesidad de ejecutar comandos externos. Además, Pylint se puede integrar en sistemas de integración continua (CI), asegurando que el código enviado a un repositorio cumpla con los estándares de calidad antes de ser aceptado.\n",
    "\n",
    "A continuación, veremos un ejemplo básico de un script en Python que contiene varios problemas, seguido del análisis realizado por Pylint:"
   ]
  },
  {
   "cell_type": "code",
   "execution_count": 174,
   "metadata": {},
   "outputs": [],
   "source": [
    "# Fichero ejemplo_pylint.py\n",
    "import os, random\n",
    "\n",
    "def example_function(x):\n",
    "    print(f\"The value of x is: {x}\")\n",
    "    if x == 10:\n",
    "        y = random.randint(0, 10)  # 'y' no se usa\n",
    "    else:\n",
    "        z = 30\n",
    "    return z  # Error: 'z' no está definido si x == 10\n",
    "\n",
    "def incorrect_indentation():\n",
    "  print(\"This function has incorrect indentation\")"
   ]
  },
  {
   "cell_type": "markdown",
   "metadata": {},
   "source": [
    "Para comprobar el código con Pylint ejecutaríamos:\n",
    "\n",
    "    $ pylint ejemplo_pylint.py\n",
    "    \n",
    "El informe generado por pylint sería el siguiente:\n",
    "\n",
    "    ************* Module ejemplo_pylint\n",
    "    ejemplo_pylint.py:15:0: W0311: Bad indentation. Found 2 spaces, expected 4 (bad-indentation)\n",
    "    ejemplo_pylint.py:1:0: C0114: Missing module docstring (missing-module-docstring)\n",
    "    ejemplo_pylint.py:2:0: C0410: Multiple imports on one line (os, random) (multiple-imports)\n",
    "    ejemplo_pylint.py:5:0: C0116: Missing function or method docstring (missing-function-docstring)\n",
    "    ejemplo_pylint.py:11:11: E0606: Possibly using variable 'z' before assignment (possibly-used-before-assignment)\n",
    "    ejemplo_pylint.py:8:8: W0612: Unused variable 'y' (unused-variable)\n",
    "    ejemplo_pylint.py:14:0: C0116: Missing function or method docstring (missing-function-docstring)\n",
    "    ejemplo_pylint.py:2:0: W0611: Unused import os (unused-import)\n",
    "\n",
    "    ------------------------------------------------------------------\n",
    "    Your code has been rated at 0.00/10 (previous run: 0.00/10, +0.00)\n",
    "\n",
    "\n",
    "La versión corregida para obtener la máxima puntuación en Pylint sería la siguiente:"
   ]
  },
  {
   "cell_type": "code",
   "execution_count": 175,
   "metadata": {},
   "outputs": [],
   "source": [
    "\"\"\" \n",
    "Fichero ejemplo_pylint_ok.py\n",
    "Versión corregida para tener la máxima puntuación en pylint\n",
    "\"\"\"\n",
    "\n",
    "def example_function(x):\n",
    "    \"\"\" Función de ejemplo \"\"\"\n",
    "    print(f\"The value of x is: {x}\")\n",
    "    z = 0\n",
    "    if x != 10:\n",
    "        z = 30\n",
    "    return z\n",
    "\n",
    "def incorrect_indentation():\n",
    "    \"\"\" Función corregida \"\"\"\n",
    "    print(\"This function has incorrect indentation\")"
   ]
  },
  {
   "cell_type": "markdown",
   "metadata": {},
   "source": [
    "## Referencias <a class=\"anchor\" id=\"refs\"></a>\n",
    "\n",
    "* The Python Tutorial: https://docs.python.org/3/tutorial/\n",
    "* Learn Python: https://www.learnpython.org/\n",
    "* The Ultimate Guide to Python: How to Go From Beginner to Pro: https://www.freecodecamp.org/news/the-ultimate-guide-to-python-from-beginner-to-intermediate-to-pro/\n",
    "* A Beginner’s Guide to Code Standards in Python - Pylint Tutorial: https://docs.pylint.org/tutorial.html\n",
    "* _(Un poco antiguo)_ Introducción a la programación con Python 3: http://dx.doi.org/10.6035/Sapientia93\n"
   ]
  }
 ],
 "metadata": {
  "anaconda-cloud": {},
  "kernelspec": {
   "display_name": "Python 3 (ipykernel)",
   "language": "python",
   "name": "python3"
  },
  "language_info": {
   "codemirror_mode": {
    "name": "ipython",
    "version": 3
   },
   "file_extension": ".py",
   "mimetype": "text/x-python",
   "name": "python",
   "nbconvert_exporter": "python",
   "pygments_lexer": "ipython3",
   "version": "3.11.0rc1"
  }
 },
 "nbformat": 4,
 "nbformat_minor": 4
}
